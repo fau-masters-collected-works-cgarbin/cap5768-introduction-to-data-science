{
 "cells": [
  {
   "cell_type": "code",
   "execution_count": 7,
   "metadata": {},
   "outputs": [
    {
     "data": {
      "text/html": [
       "<div>\n",
       "<style scoped>\n",
       "    .dataframe tbody tr th:only-of-type {\n",
       "        vertical-align: middle;\n",
       "    }\n",
       "\n",
       "    .dataframe tbody tr th {\n",
       "        vertical-align: top;\n",
       "    }\n",
       "\n",
       "    .dataframe thead th {\n",
       "        text-align: right;\n",
       "    }\n",
       "</style>\n",
       "<table border=\"1\" class=\"dataframe\">\n",
       "  <thead>\n",
       "    <tr style=\"text-align: right;\">\n",
       "      <th>class</th>\n",
       "      <th>First</th>\n",
       "      <th>Second</th>\n",
       "      <th>Third</th>\n",
       "    </tr>\n",
       "    <tr>\n",
       "      <th>deck</th>\n",
       "      <th></th>\n",
       "      <th></th>\n",
       "      <th></th>\n",
       "    </tr>\n",
       "  </thead>\n",
       "  <tbody>\n",
       "    <tr>\n",
       "      <td>A</td>\n",
       "      <td>7</td>\n",
       "      <td></td>\n",
       "      <td></td>\n",
       "    </tr>\n",
       "    <tr>\n",
       "      <td>B</td>\n",
       "      <td>35</td>\n",
       "      <td></td>\n",
       "      <td></td>\n",
       "    </tr>\n",
       "    <tr>\n",
       "      <td>C</td>\n",
       "      <td>35</td>\n",
       "      <td></td>\n",
       "      <td></td>\n",
       "    </tr>\n",
       "    <tr>\n",
       "      <td>D</td>\n",
       "      <td>22</td>\n",
       "      <td>3</td>\n",
       "      <td></td>\n",
       "    </tr>\n",
       "    <tr>\n",
       "      <td>E</td>\n",
       "      <td>18</td>\n",
       "      <td>3</td>\n",
       "      <td>3</td>\n",
       "    </tr>\n",
       "    <tr>\n",
       "      <td>F</td>\n",
       "      <td></td>\n",
       "      <td>7</td>\n",
       "      <td>1</td>\n",
       "    </tr>\n",
       "    <tr>\n",
       "      <td>G</td>\n",
       "      <td></td>\n",
       "      <td></td>\n",
       "      <td>2</td>\n",
       "    </tr>\n",
       "  </tbody>\n",
       "</table>\n",
       "</div>"
      ],
      "text/plain": [
       "class First Second Third\n",
       "deck                    \n",
       "A         7             \n",
       "B        35             \n",
       "C        35             \n",
       "D        22      3      \n",
       "E        18      3     3\n",
       "F                7     1\n",
       "G                      2"
      ]
     },
     "metadata": {},
     "output_type": "display_data"
    },
    {
     "data": {
      "image/png": "[encoded data removed]",
      "text/plain": [
       "<Figure size 432.625x360 with 1 Axes>"
      ]
     },
     "metadata": {
      "needs_background": "light"
     },
     "output_type": "display_data"
    }
   ],
   "source": [
    "# Python 3 code\n",
    "# annotate() code based on\n",
    "#   https://stackoverflow.com/a/33259038/336802\n",
    "\n",
    "import seaborn as sns\n",
    "%matplotlib inline\n",
    "\n",
    "titanic = sns.load_dataset('titanic')\n",
    "\n",
    "survived = titanic.loc[titanic.survived == 1]\n",
    "\n",
    "# This is just to visualize the data in tabular format,\n",
    "# so we can check the values we will show in the bars\n",
    "display(survived.pivot_table('survived', index='deck',\n",
    "                             columns='class', aggfunc='count',\n",
    "                             fill_value=''))\n",
    "\n",
    "# Original code used factorplot\n",
    "# It's deprecated - use catplot instead\n",
    "fg = sns.catplot(y='deck', hue='class', kind='count',\n",
    "                 data=survived)\n",
    "\n",
    "# This assumes catplot's FacetGrid has only one axis\n",
    "# It's safe in this case, but not in all cases\n",
    "ax = fg.axes[0][0]\n",
    "\n",
    "for p in ax.patches:\n",
    "    # Where the box ends in the x axis\n",
    "    # (i.e. the length of the box, which happens\n",
    "    # to be the value of the variable we plotted)\n",
    "    x = p.get_bbox().get_points()[1, 0]\n",
    "    # Where the box ends in the y axis\n",
    "    y = p.get_bbox().get_points()[1, 1]\n",
    "    # \"x+1\" pushes the text a bit to the right, to\n",
    "    # avoid overlapping with the bar\n",
    "    ax.annotate('{:.0f}'.format(x), (x+1, y),\n",
    "                ha='center', va='bottom')\n"
   ]
  },
  {
   "cell_type": "code",
   "execution_count": null,
   "metadata": {},
   "outputs": [],
   "source": []
  }
 ],
 "metadata": {
  "kernelspec": {
   "display_name": "Python 3",
   "language": "python",
   "name": "python3"
  },
  "language_info": {
   "codemirror_mode": {
    "name": "ipython",
    "version": 3
   },
   "file_extension": ".py",
   "mimetype": "text/x-python",
   "name": "python",
   "nbconvert_exporter": "python",
   "pygments_lexer": "ipython3",
   "version": "3.7.2"
  }
 },
 "nbformat": 4,
 "nbformat_minor": 4
}
