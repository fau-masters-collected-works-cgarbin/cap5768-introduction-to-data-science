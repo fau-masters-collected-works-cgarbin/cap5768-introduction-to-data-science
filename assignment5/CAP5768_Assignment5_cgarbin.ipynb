{
 "cells": [
  {
   "cell_type": "markdown",
   "metadata": {
    "colab_type": "text",
    "id": "p78j872pOKTZ"
   },
   "source": [
    "# CAP 5768 - Data Science - Dr. Marques - Fall 2019"
   ]
  },
  {
   "cell_type": "markdown",
   "metadata": {},
   "source": [
    "Christian Garbin"
   ]
  },
  {
   "cell_type": "markdown",
   "metadata": {
    "colab_type": "text",
    "id": "NYmNMHGLOKTa"
   },
   "source": [
    "## Assignment 5: Hypothesis Testing\n",
    "\n",
    "## Starter code"
   ]
  },
  {
   "cell_type": "markdown",
   "metadata": {
    "colab_type": "text",
    "id": "9UMnsRndOKTb"
   },
   "source": [
    "### Goals \n",
    "\n",
    "- To learn how to test hypoteses using different test functions, compute p-values, and derive reasonable conclusions.\n",
    "- To expand upon the prior experience of manipulating, summarizing, and visualizing small datasets.\n",
    "- To increase our statistical analysis skills."
   ]
  },
  {
   "cell_type": "markdown",
   "metadata": {
    "colab_type": "text",
    "id": "B0rEAT7MOKTb"
   },
   "source": [
    "### Instructions\n",
    "\n",
    "- This assignment is structured in 3 parts, each one using their own dataset(s).\n",
    "- As usual, there will be some Python code to be written and questions to be answered.\n",
    "- At the end, you should export your notebook to PDF format; it will become your report.\n",
    "- Submit the report (PDF), notebook (.ipynb file), and (optionally) link to the \"live\" version of your solution on Google Colaboratory via Canvas.\n",
    "- The total number of points is 96 (sorry, no bonus points this time)."
   ]
  },
  {
   "cell_type": "markdown",
   "metadata": {
    "colab_type": "text",
    "id": "qiufouQn6OD9"
   },
   "source": [
    "### Important\n",
    "\n",
    "- It is OK to attempt the bonus points, but please **do not overdo it!** "
   ]
  },
  {
   "cell_type": "code",
   "execution_count": 1,
   "metadata": {
    "colab": {
     "base_uri": "https://localhost:8080/",
     "height": 34
    },
    "colab_type": "code",
    "id": "4dkSabDG5gjc",
    "outputId": "3c3cdd00-171e-4e91-9bcc-67f79eceeb70"
   },
   "outputs": [],
   "source": [
    "#Imports\n",
    "import numpy as np\n",
    "import matplotlib.pyplot as plt\n",
    "import pandas as pd\n",
    "import seaborn as sns\n",
    "import scipy.stats as ss\n",
    "%matplotlib inline"
   ]
  },
  {
   "cell_type": "markdown",
   "metadata": {
    "colab_type": "text",
    "id": "fiXV2xUI7lUZ"
   },
   "source": [
    "### Formulating and simulating a hypothesis"
   ]
  },
  {
   "cell_type": "markdown",
   "metadata": {
    "colab_type": "text",
    "id": "0EDk6NGk8YsH"
   },
   "source": [
    "In this assignment we will look at how to test hypotheses in a more systematic way than we have done so far, i.e., going from “apparent effects” to “rigorous hypothesis testing”.\n",
    "\n",
    "The fundamental question we want to address is whether the effects we see in a sample are likely to appear in the larger population. \n",
    "\n",
    "Or, put differently, you will learn how to use classical hypothesis testing to answer the question:\n",
    "\n",
    "**Given a sample and an apparent effect, what is the probability of seeing such an effect by chance?**\n",
    "\n",
    "#### Pipeline for hypothesis testing\n",
    "\n",
    "* Clearly state the null hypothesis\n",
    "* Define your test statistics \n",
    "* Generate many simulated data assuming that your null hypothesis is true \n",
    "* Compute the test statistic for each simulated data set\n",
    "* The p-value is the fraction of your simulated data sets for which each test statistics is at least as extreme as for the real data\n"
   ]
  },
  {
   "cell_type": "markdown",
   "metadata": {},
   "source": [
    "To get more predictable results:"
   ]
  },
  {
   "cell_type": "code",
   "execution_count": 2,
   "metadata": {},
   "outputs": [],
   "source": [
    "np.random.seed(42)"
   ]
  },
  {
   "cell_type": "markdown",
   "metadata": {},
   "source": [
    "-------------------\n",
    "## Part 1: Computing and visualizing permutation samples\n",
    "\n",
    "We will use the Sheffield Weather Station data (see https://www.metoffice.gov.uk/pub/data/weather/uk/climate/stationdata/sheffielddata.txt if you're interested in the entire dataset), paying particular attention to the monthly rainfall in June (a dry month) and November (a wet month). We expect these might be differently distributed, so we will take permutation samples to see how their ECDFs would look if they were identically distributed.\n",
    "\n",
    "The data are stored in the Numpy arrays `rain_june` and `rain_november`, respectively.\n",
    "\n",
    "The Python code below shows how to concatenate the two arrays, permute the concatenated array, and split the permuted array into two. It also shows how to plot the ECDF for the original arrays as well as the ECDF for a particular permutation."
   ]
  },
  {
   "cell_type": "code",
   "execution_count": 3,
   "metadata": {},
   "outputs": [],
   "source": [
    "# Relevant numpy arrays\n",
    "rain_june = np.array([ 66.2,  39.7,  76.4,  26.5,  11.2,  61.8,   6.1,  48.4,  89.2,\n",
    "        104,  34,  60.6,  57.1,  79.1,  90.9,  32.3,  63.8,  78.2,\n",
    "        27.5,  43.4,  30.1,  17.3,  77.5,  44.9,  92.2,  39.6,  79.4,\n",
    "        66.1,  53.5,  98.5,  20.8,  55.5,  39.6,  56,  65.1,  14.8,\n",
    "        13.2,  88.1,   8.4,  32.1,  19.6,  40.4,   2.2,  77.5, 105.4,\n",
    "        77.2,  38,  27.1, 111.8,  17.2,  26.7,  23.3,  77.2,  87.2,\n",
    "        27.7,  50.6,  60.3,  15.1,   6,  29.4,  39.3,  56.3,  80.4,\n",
    "        85.3,  68.4,  72.5,  13.3,  28.4,  14.7,  37.4,  49.5,  57.2,\n",
    "        85.9,  82.1,  31.8, 126.6,  30.7,  41.4,  33.9,  13.5,  99.1,\n",
    "        70.2,  91.8,  61.3,  13.7,  54.9,  62.5,  24.2,  69.4,  83.1,\n",
    "        44,  48.5,  11.9,  16.6,  66.4,  90,  34.9, 132.8,  33.4,\n",
    "        225,   7.6,  40.9,  76.5,  48, 140,  55.9,  54.1,  46.4,\n",
    "        68.6,  52.2, 108.3,  14.6,  11.3,  29.8, 130.9, 152.4,  61,\n",
    "        46.6,  43.9,  30.9, 111.1,  68.5,  42.2,   9.8, 285.6,  56.7,\n",
    "       168.2,  41.2,  47.8, 166.6,  37.8,  45.4,  43.2])\n",
    "\n",
    "rain_november = np.array([ 83.6,  30.9,  62.2,  37,  41, 160.2,  18.2, 122.4,  71.3,\n",
    "        44.2,  49.1,  37.6, 114.5,  28.8,  82.5,  71.9,  50.7,  67.7,\n",
    "       112,  63.6,  42.8,  57.2,  99.1,  86.4,  84.4,  38.1,  17.7,\n",
    "       102.2, 101.3,  58,  82, 101.4,  81.4, 100.1,  54.6,  39.6,\n",
    "        57.5,  29.2,  48.8,  37.3, 115.4,  55.6,  62,  95,  84.2,\n",
    "       118.1, 153.2,  83.4, 104.7,  59,  46.4,  50, 147.6,  76.8,\n",
    "        59.9, 101.8, 136.6, 173,  92.5,  37,  59.8, 142.1,   9.9,\n",
    "       158.2,  72.6,  28, 112.9, 119.3, 199.2,  50.7,  44, 170.7,\n",
    "        67.2,  21.4,  61.3,  15.6, 106, 116.2,  42.3,  38.5, 132.5,\n",
    "        40.8, 147.5,  93.9,  71.4,  87.3, 163.7, 141.4,  62.6,  84.9,\n",
    "        28.8, 121.1,  28.6,  32.4, 112,  50,  96.9,  81.8,  70.4,\n",
    "       117.5,  41.2, 124.9,  78.2,  93,  53.5,  50.5,  42.6,  47.9,\n",
    "        73.1, 129.1,  56.9, 103.3,  60.5, 134.3,  93.1,  49.5,  48.2,\n",
    "       167.9,  27, 111.1,  55.4,  36.2,  57.4,  66.8,  58.3,  60,\n",
    "       161.6, 112.7,  37.4, 110.6,  56.6,  95.8, 126.8])"
   ]
  },
  {
   "cell_type": "code",
   "execution_count": 4,
   "metadata": {},
   "outputs": [
    {
     "data": {
      "image/png": "[encoded data removed]",
      "text/plain": [
       "<Figure size 432x288 with 1 Axes>"
      ]
     },
     "metadata": {
      "needs_background": "light"
     },
     "output_type": "display_data"
    }
   ],
   "source": [
    "def ecdf(data):\n",
    "    \"\"\"Compute ECDF for a one-dimensional array of measurements.\"\"\"\n",
    "\n",
    "    # Number of data points: n\n",
    "    n = len(data)\n",
    "\n",
    "    # x-data for the ECDF: x\n",
    "    x = np.sort(data)\n",
    "\n",
    "    # y-data for the ECDF: y\n",
    "    y = np.arange(1, n + 1) / n\n",
    "\n",
    "    return x, y\n",
    "\n",
    "# Create and plot ECDFs from original data\n",
    "x_1, y_1 = ecdf(rain_june)\n",
    "x_2, y_2 = ecdf(rain_november)\n",
    "_ = plt.plot(x_1, y_1, marker='.', linestyle='none', color='red', label='rain (June)')\n",
    "_ = plt.plot(x_2, y_2, marker='.', linestyle='none', color='blue', label='rain (December)')\n",
    "\n",
    "# Label axes, set margin, and show plot\n",
    "plt.margins(0.02)\n",
    "_ = plt.xlabel('monthly rainfall (mm)')\n",
    "_ = plt.ylabel('ECDF')\n",
    "plt.legend();\n",
    "plt.show()"
   ]
  },
  {
   "cell_type": "code",
   "execution_count": 5,
   "metadata": {},
   "outputs": [
    {
     "data": {
      "image/png": "[encoded data removed]",
      "text/plain": [
       "<Figure size 432x288 with 1 Axes>"
      ]
     },
     "metadata": {
      "needs_background": "light"
     },
     "output_type": "display_data"
    }
   ],
   "source": [
    "data1 = rain_june\n",
    "data2 = rain_november\n",
    "\n",
    "# Concatenate the data sets: data\n",
    "data = np.concatenate((data1, data2))\n",
    "\n",
    "# Permute the concatenated array: permuted_data\n",
    "permuted_data = np.random.permutation(data)\n",
    "\n",
    "# Split the permuted array into two: perm_sample_1, perm_sample_2\n",
    "perm_sample_1 = permuted_data[:len(data1)]\n",
    "perm_sample_2 = permuted_data[len(data1):]\n",
    "\n",
    "# Compute ECDFs\n",
    "x_1, y_1 = ecdf(perm_sample_1)\n",
    "x_2, y_2 = ecdf(perm_sample_2)\n",
    "\n",
    "# Plot ECDFs of permutation sample\n",
    "_ = plt.plot(x_1, y_1, marker='.', linestyle='none', color='red', alpha=0.2)\n",
    "_ = plt.plot(x_2, y_2, marker='.', linestyle='none', color='blue', alpha=0.2)"
   ]
  },
  {
   "cell_type": "markdown",
   "metadata": {},
   "source": [
    "## Your turn! (24 points, i.e., 12 pts each)\n",
    "\n",
    "1. Create an auxiliary function `permutation_sample()` to encapsulate the functionality of lines 4-12 in the example above.\n",
    "2. Write a `for` loop to generate 50 permutation samples, compute their ECDFs, and plot them.\n",
    "\n",
    "The plot should look like this: \n",
    "\n",
    "![ECDF_permutation_rain](notebook_images/ecdf-permutations.png)"
   ]
  },
  {
   "cell_type": "markdown",
   "metadata": {
    "colab_type": "text",
    "id": "tdOZPjis7Phf"
   },
   "source": [
    "## Solution"
   ]
  },
  {
   "cell_type": "markdown",
   "metadata": {
    "colab": {},
    "colab_type": "code",
    "id": "BQkN1WvQOKTi"
   },
   "source": [
    "### 1. Create an auxiliary function permutation_sample() to encapsulate the functionality of lines 4-12 in the example above."
   ]
  },
  {
   "cell_type": "code",
   "execution_count": 6,
   "metadata": {},
   "outputs": [],
   "source": [
    "def permutation_sample(data1, data2):\n",
    "    data = np.concatenate((data1, data2))\n",
    "\n",
    "    # Permute the concatenated array: permuted_data\n",
    "    permuted_data = np.random.permutation(data)\n",
    "\n",
    "    # Split the permuted array into two: perm_sample_1, perm_sample_2\n",
    "    perm_sample_1 = permuted_data[:len(data1)]\n",
    "    perm_sample_2 = permuted_data[len(data1):]\n",
    "    \n",
    "    return perm_sample_1, perm_sample_2"
   ]
  },
  {
   "cell_type": "markdown",
   "metadata": {},
   "source": [
    "### 2. Write a for loop to generate 50 permutation samples, compute their ECDFs, and plot them."
   ]
  },
  {
   "cell_type": "code",
   "execution_count": 7,
   "metadata": {},
   "outputs": [
    {
     "data": {
      "image/png": "[encoded data removed]",
      "text/plain": [
       "<Figure size 432x288 with 1 Axes>"
      ]
     },
     "metadata": {},
     "output_type": "display_data"
    }
   ],
   "source": [
    "sns.set()\n",
    "\n",
    "# Plot permutations\n",
    "for _ in range(50):\n",
    "    p1, p2 = permutation_sample(rain_june, rain_november)\n",
    "    for d, c in zip((p1, p2), ('red', 'blue')):\n",
    "        x, y = ecdf(d)\n",
    "        plt.plot(x, y, marker='.', linestyle='none', color=c, alpha=0.01)\n",
    "\n",
    "# Plot actual datasets to show how permutations mix them up\n",
    "x, y = ecdf(rain_june)\n",
    "plt.plot(x, y, marker='.', linestyle='none', color='red', label='June')\n",
    "x, y = ecdf(rain_november)\n",
    "plt.plot(x, y, marker='.', linestyle='none', color='blue', label='November')\n",
    "    \n",
    "plt.xlabel('monthly rainfall (mm)')\n",
    "plt.ylabel('ECDF')\n",
    "plt.legend()\n",
    "plt.show()"
   ]
  },
  {
   "cell_type": "markdown",
   "metadata": {},
   "source": [
    "-------------------\n",
    "## Part 2: Test statistics and p-values\n",
    "\n",
    "Kleinteich and Gorb (Sci. Rep., 4, 5225, 2014) performed an interesting experiment with South American horned frogs. They held a plate connected to a force transducer, along with a bait fly, in front of them. They then measured the impact force and adhesive force of the frog's tongue when it struck the target. (See https://www.nature.com/articles/srep05225 for full paper, if interested.)\n",
    "\n",
    "Frog A is an adult and Frog B is a juvenile. The researchers measured the impact force of 20 strikes for each frog. \n",
    "\n",
    "In this part, we will test the hypothesis that the two frogs have the same distribution of impact forces. \n",
    "\n",
    "The Python code below reads the data from a CSV file, creates a Pandas data frame, `df`, and makes a bee swarm plot for the data."
   ]
  },
  {
   "cell_type": "code",
   "execution_count": 8,
   "metadata": {},
   "outputs": [
    {
     "data": {
      "image/png": "[encoded data removed]",
      "text/plain": [
       "<Figure size 432x288 with 1 Axes>"
      ]
     },
     "metadata": {},
     "output_type": "display_data"
    }
   ],
   "source": [
    "# Read CSV and build dataframe\n",
    "df = pd.read_csv('data/horned_frog_tongue.csv')\n",
    "\n",
    "# Make bee swarm plot\n",
    "_ = sns.swarmplot(x=df['ID'], y=df['impact force (mN)'])\n",
    "\n",
    "# Label axes\n",
    "_ = plt.xlabel('frog')\n",
    "_ = plt.ylabel('impact force (mN)')\n",
    "\n",
    "# Show the plot\n",
    "plt.show()"
   ]
  },
  {
   "cell_type": "markdown",
   "metadata": {},
   "source": [
    "A *permutation replicate* is a single value of a statistic computed from a permutation sample. \n",
    "\n",
    "The Python code below shows the `draw_perm_reps()`, which is useful to generate permutation replicates.\n",
    "\n",
    "The function has call signature `draw_perm_reps(data_1, data_2, func, size=1)`. Importantly, `func` must be a function that takes two arrays as arguments. In most circumstances, `func` will be a function you write yourself."
   ]
  },
  {
   "cell_type": "code",
   "execution_count": 9,
   "metadata": {},
   "outputs": [],
   "source": [
    "# Auxiliary functions\n",
    "def permutation_sample(data1, data2):\n",
    "    \"\"\"Generate a permutation sample from two data sets.\"\"\"\n",
    "\n",
    "    # Concatenate the data sets: data\n",
    "    data = np.concatenate((data1, data2))\n",
    "\n",
    "    # Permute the concatenated array: permuted_data\n",
    "    permuted_data = np.random.permutation(data)\n",
    "\n",
    "    # Split the permuted array into two: perm_sample_1, perm_sample_2\n",
    "    perm_sample_1 = permuted_data[:len(data1)]\n",
    "    perm_sample_2 = permuted_data[len(data1):]\n",
    "\n",
    "    return perm_sample_1, perm_sample_2\n",
    "\n",
    "def draw_perm_reps(data_1, data_2, func, size=1):\n",
    "    \"\"\"Generate multiple permutation replicates.\"\"\"\n",
    "\n",
    "    # Initialize array of replicates: perm_replicates\n",
    "    perm_replicates = np.empty(size)\n",
    "\n",
    "    for i in range(size):\n",
    "        # Generate permutation sample\n",
    "        perm_sample_1, perm_sample_2 = permutation_sample(data_1, data_2)\n",
    "\n",
    "        # Compute the test statistic\n",
    "        perm_replicates[i] = func(perm_sample_1, perm_sample_2)\n",
    "\n",
    "    return perm_replicates"
   ]
  },
  {
   "cell_type": "markdown",
   "metadata": {},
   "source": [
    "### Testing a difference in means\n",
    "\n",
    "The code below computes the average strike force of Frog A (1.53 N), and that of Frog B (0.71 N) for a difference of 0.82 N. It is possible the frogs strike with the same force and this observed difference was by chance. "
   ]
  },
  {
   "cell_type": "code",
   "execution_count": 10,
   "metadata": {},
   "outputs": [
    {
     "name": "stdout",
     "output_type": "stream",
     "text": [
      "The average strike force of Frog A is 1.53 N\n",
      "The average strike force of Frog B is 0.71 N\n"
     ]
    }
   ],
   "source": [
    "frog_A = df['ID'] == 'A'\n",
    "frog_B = df['ID'] == 'B'\n",
    "force_a = np.array(df['impact force (mN)'][frog_A])/1000\n",
    "force_b = np.array(df['impact force (mN)'][frog_B])/1000\n",
    "print('The average strike force of Frog A is {:.2f} N'.format(force_a.mean()))\n",
    "print('The average strike force of Frog B is {:.2f} N'.format(force_b.mean()))"
   ]
  },
  {
   "cell_type": "markdown",
   "metadata": {},
   "source": [
    "## Your turn! (25 points)\n",
    "\n",
    "Write code to compute the probability of getting at least a 0.82 N difference in mean strike force under the hypothesis that the distributions of strike forces for the two frogs are identical. You will use a permutation test with a test statistic of the *difference of means* to test this hypothesis.\n",
    "\n",
    "Hints: \n",
    "1. Create a function `diff_of_means()` that takes two arrays as parameters, computes their mean values and returns the difference between the two mean values.\n",
    "2. Use that function to compute the difference of mean impact force, i.e., call `diff_of_means(force_a, force_b)`.\n",
    "3. Use function `draw_perm_reps()` to draw 100,000 permutation replicates.\n",
    "4. Compute and print the p-value.\n",
    "\n",
    "Important: Don't panic if your p-value is extremely low."
   ]
  },
  {
   "cell_type": "markdown",
   "metadata": {
    "colab_type": "text",
    "id": "tdOZPjis7Phf"
   },
   "source": [
    "## Solution"
   ]
  },
  {
   "cell_type": "markdown",
   "metadata": {},
   "source": [
    "The function we will use in the replication (difference of means between two forces)."
   ]
  },
  {
   "cell_type": "code",
   "execution_count": 11,
   "metadata": {},
   "outputs": [],
   "source": [
    "def diff_of_means(data1, data2):\n",
    "    ''' Returns the difference between the means of the input parameters.'''\n",
    "    return np.mean(data1) - np.mean(data2)"
   ]
  },
  {
   "cell_type": "code",
   "execution_count": 12,
   "metadata": {
    "colab": {},
    "colab_type": "code",
    "id": "BQkN1WvQOKTi"
   },
   "outputs": [],
   "source": [
    "# Actual difference, from empirical data\n",
    "empirical_diff_means = np.mean(force_a) - np.mean(force_b)\n",
    "\n",
    "# Simulate a large number of experiments, permutating the data (mixing up the\n",
    "# measurements from both frogs into new datasets)\n",
    "replicates = draw_perm_reps(force_a, force_b, diff_of_means, 100_000)\n",
    "\n",
    "# How many experiments are above the empirical measurement\n",
    "experiments_above_empirical = np.sum(replicates >= empirical_diff_means)\n",
    "\n",
    "# Ratio of experiments above the empirical measurement -> p-value\n",
    "p_value = experiments_above_empirical / len(replicates)"
   ]
  },
  {
   "cell_type": "code",
   "execution_count": 13,
   "metadata": {
    "colab": {},
    "colab_type": "code",
    "id": "BQkN1WvQOKTi"
   },
   "outputs": [
    {
     "name": "stdout",
     "output_type": "stream",
     "text": [
      "The empirical difference of means = 0.8228499999999996\n",
      "The experimental difference of means = -0.0006048330000000006\n",
      "Out of 100,000 simulations, 0 are >= the empirical difference of means\n",
      "p-value = 0.000000\n"
     ]
    }
   ],
   "source": [
    "print('The empirical difference of means = {}'.format(empirical_diff_means))\n",
    "print('The experimental difference of means = {}'.format(np.mean(replicates)))\n",
    "print('Out of {:,} simulations, {} are >= the empirical difference of means'.\\\n",
    "     format(len(replicates), experiments_above_empirical))\n",
    "print('p-value = {:f}'.format(p_value))"
   ]
  },
  {
   "cell_type": "markdown",
   "metadata": {},
   "source": [
    "The low p-value is also visible in the boxplot. It shows that most values are well below the empirical difference of means."
   ]
  },
  {
   "cell_type": "code",
   "execution_count": 14,
   "metadata": {},
   "outputs": [
    {
     "data": {
      "image/png": "[encoded data removed]",
      "text/plain": [
       "<Figure size 864x216 with 1 Axes>"
      ]
     },
     "metadata": {},
     "output_type": "display_data"
    }
   ],
   "source": [
    "def plot_empirical_mean_diff(plot_function): \n",
    "    # Increase width to make the outliers stick out visually\n",
    "    plt.figure(figsize=(12, 3))\n",
    "    ax = plot_function(x=replicates)\n",
    "    ax.axvline(empirical_diff_means, 0, 1, color='red')\n",
    "    ax.text(empirical_diff_means-0.04, 0.4,\n",
    "            s='empirical value = {:.2f} N'.format(empirical_diff_means),\n",
    "            rotation='90', color='red')\n",
    "    plt.xlabel('experimental mean impact force difference (N)')\n",
    "    plt.show()\n",
    "\n",
    "plot_empirical_mean_diff(sns.boxplot)"
   ]
  },
  {
   "cell_type": "markdown",
   "metadata": {
    "colab_type": "text",
    "id": "QtjTzR09-PyS"
   },
   "source": [
    "## Question 1 (6 points)\n",
    "\n",
    "1. How do you describe the result of your hypothesis testing based on the p-value calculated above?\n"
   ]
  },
  {
   "cell_type": "markdown",
   "metadata": {
    "colab_type": "text",
    "id": "RRG5lAHB-PyV"
   },
   "source": [
    "## Solution"
   ]
  },
  {
   "cell_type": "markdown",
   "metadata": {
    "colab_type": "text",
    "id": "YxJNmDgn-PyW"
   },
   "source": [
    "Our null hypothesis, stated above, is\n",
    "\n",
    "> the distributions of strike forces for the two frogs are identical\n",
    "\n",
    "An interpretation of the p-value we calculated (p-value < $10^{-5}$) is that there is less than a 0.001% chance that we would observe the empirical result (0.82 N mean difference between strike forces), assuming the null hypothesis is true (considering the data we have).\n",
    "\n",
    "Given the low p-value, it is unlikely that the null hypothesis is true. We, therefore, reject the null hypothesis and conclude that the distribution of forces between the two frogs is unlikely to have occurred by chance.\n",
    "\n",
    "NB: Why all we can say is that the p-value is less than $10^{-5}$ and not a specific value: we ran only 100,000 of the possible experiments. The number of possible experiments is the number of permutations of the combined datasets, a very large number. We don't know what would happen if we ran more experiments (or all of them, if we had enough computing power). Therefore, all we know at this point is that p-value is less than the resolution of our experiments, $10^{-5}$."
   ]
  },
  {
   "cell_type": "markdown",
   "metadata": {},
   "source": [
    "The low p-value and the conclusion can  be visualized in the plot of the distribution of the experiment values. It shows that the distribution of the experimental values is well below the empirical value.\n",
    "\n",
    "The graph is also a clear illustration that \"[the evidence we collected make our null hypothesis look ridiculous](https://towardsdatascience.com/the-most-important-idea-in-statistics-8c18d514ad1c)\". If our null hypothesis were true, the empirical value would be well within the distribution of the experiment values. The empirical value is way out to the right, far beyond most of the distribution from the experiments, making the null hypothesis \"look ridiculous\"."
   ]
  },
  {
   "cell_type": "code",
   "execution_count": 15,
   "metadata": {},
   "outputs": [
    {
     "data": {
      "image/png": "[encoded data removed]",
      "text/plain": [
       "<Figure size 864x216 with 1 Axes>"
      ]
     },
     "metadata": {},
     "output_type": "display_data"
    }
   ],
   "source": [
    "plot_empirical_mean_diff(sns.histplot)"
   ]
  },
  {
   "cell_type": "markdown",
   "metadata": {},
   "source": [
    "-------------------\n",
    "## Part 3: Test of correlation\n",
    "\n",
    "In this part, we will look at the correlation between female literacy and fertility (defined as the average number of children born per woman) throughout the world. For ease of analysis and interpretation, we will work with the *illiteracy* rate.\n",
    "\n",
    "The Python code below plots the fertility versus illiteracy and computes the Pearson correlation coefficient. The Numpy array `illiteracy` has the illiteracy rate among females for most of the world's nations. The array `fertility` has the corresponding fertility data."
   ]
  },
  {
   "cell_type": "code",
   "execution_count": 16,
   "metadata": {},
   "outputs": [
    {
     "data": {
      "text/html": [
       "<div>\n",
       "<style scoped>\n",
       "    .dataframe tbody tr th:only-of-type {\n",
       "        vertical-align: middle;\n",
       "    }\n",
       "\n",
       "    .dataframe tbody tr th {\n",
       "        vertical-align: top;\n",
       "    }\n",
       "\n",
       "    .dataframe thead th {\n",
       "        text-align: right;\n",
       "    }\n",
       "</style>\n",
       "<table border=\"1\" class=\"dataframe\">\n",
       "  <thead>\n",
       "    <tr style=\"text-align: right;\">\n",
       "      <th></th>\n",
       "      <th>Country</th>\n",
       "      <th>Continent</th>\n",
       "      <th>female literacy</th>\n",
       "      <th>fertility</th>\n",
       "      <th>population</th>\n",
       "    </tr>\n",
       "  </thead>\n",
       "  <tbody>\n",
       "    <tr>\n",
       "      <th>0</th>\n",
       "      <td>Chine</td>\n",
       "      <td>ASI</td>\n",
       "      <td>90.5</td>\n",
       "      <td>1.769</td>\n",
       "      <td>1,324,655,000</td>\n",
       "    </tr>\n",
       "    <tr>\n",
       "      <th>1</th>\n",
       "      <td>Inde</td>\n",
       "      <td>ASI</td>\n",
       "      <td>50.8</td>\n",
       "      <td>2.682</td>\n",
       "      <td>1,139,964,932</td>\n",
       "    </tr>\n",
       "    <tr>\n",
       "      <th>2</th>\n",
       "      <td>USA</td>\n",
       "      <td>NAM</td>\n",
       "      <td>99.0</td>\n",
       "      <td>2.077</td>\n",
       "      <td>304,060,000</td>\n",
       "    </tr>\n",
       "    <tr>\n",
       "      <th>3</th>\n",
       "      <td>Indonésie</td>\n",
       "      <td>ASI</td>\n",
       "      <td>88.8</td>\n",
       "      <td>2.132</td>\n",
       "      <td>227,345,082</td>\n",
       "    </tr>\n",
       "    <tr>\n",
       "      <th>4</th>\n",
       "      <td>Brésil</td>\n",
       "      <td>LAT</td>\n",
       "      <td>90.2</td>\n",
       "      <td>1.827</td>\n",
       "      <td>191,971,506</td>\n",
       "    </tr>\n",
       "  </tbody>\n",
       "</table>\n",
       "</div>"
      ],
      "text/plain": [
       "    Country  Continent  female literacy  fertility     population\n",
       "0      Chine       ASI             90.5      1.769  1,324,655,000\n",
       "1       Inde       ASI             50.8      2.682  1,139,964,932\n",
       "2        USA       NAM             99.0      2.077    304,060,000\n",
       "3  Indonésie       ASI             88.8      2.132    227,345,082\n",
       "4     Brésil       LAT             90.2      1.827    191,971,506"
      ]
     },
     "execution_count": 16,
     "metadata": {},
     "output_type": "execute_result"
    }
   ],
   "source": [
    "df = pd.read_csv('data/female_literacy_fertility.csv')\n",
    "df.head()"
   ]
  },
  {
   "cell_type": "code",
   "execution_count": 17,
   "metadata": {},
   "outputs": [
    {
     "data": {
      "image/png": "[encoded data removed]",
      "text/plain": [
       "<Figure size 432x288 with 1 Axes>"
      ]
     },
     "metadata": {},
     "output_type": "display_data"
    },
    {
     "name": "stdout",
     "output_type": "stream",
     "text": [
      "Pearson correlation coefficient between illiteracy and fertility: 0.80413\n"
     ]
    }
   ],
   "source": [
    "illiteracy = 100 - df['female literacy']\n",
    "\n",
    "fertility = df['fertility']\n",
    "\n",
    "def pearson_r(x, y):\n",
    "    \"\"\"Compute Pearson correlation coefficient between two arrays.\"\"\"\n",
    "    # Compute correlation matrix: corr_mat\n",
    "    corr_mat = np.corrcoef(x, y)\n",
    "\n",
    "    # Return entry [0,1]\n",
    "    return corr_mat[0,1]\n",
    "\n",
    "# Plot the illiteracy rate versus fertility\n",
    "_ = plt.plot(illiteracy, fertility, marker='.', linestyle='none')\n",
    "\n",
    "# Set the margins and label axes\n",
    "plt.margins(0.02)\n",
    "_ = plt.xlabel('% illiterate')\n",
    "_ = plt.ylabel('fertility')\n",
    "\n",
    "# Show the plot\n",
    "plt.show()\n",
    "\n",
    "# Show the Pearson correlation coefficient\n",
    "print('Pearson correlation coefficient between illiteracy and fertility: {:.5f}'.format(pearson_r(illiteracy, fertility)))"
   ]
  },
  {
   "cell_type": "markdown",
   "metadata": {},
   "source": [
    "## Your turn! (25 points)\n",
    "\n",
    "The observed correlation between female illiteracy and fertility may just be by chance; the fertility of a given country may actually be totally independent of its illiteracy. \n",
    "\n",
    "You will test this hypothesis. \n",
    "\n",
    "To do so, permute the illiteracy values but leave the fertility values fixed. This simulates the hypothesis that they are totally independent of each other. For each permutation, compute the Pearson correlation coefficient (using the `pearson_r()` function above) and assess how many of your permutation replicates have a Pearson correlation coefficient greater than the observed one.\n",
    "\n",
    "Hint: use a `for` loop to draw 100,000 permutation replicates and compute the Pearson correlation coefficient for each of them.\n",
    "\n",
    "Important: Don't panic if your p-value is extremely low."
   ]
  },
  {
   "cell_type": "markdown",
   "metadata": {
    "colab_type": "text",
    "id": "tdOZPjis7Phf"
   },
   "source": [
    "## Solution"
   ]
  },
  {
   "cell_type": "markdown",
   "metadata": {},
   "source": [
    "Auxiliary function to create replicates where only one of the datasets is permutated."
   ]
  },
  {
   "cell_type": "code",
   "execution_count": 18,
   "metadata": {},
   "outputs": [],
   "source": [
    "def draw_single_perm_reps(to_permutate, use_as_is, func, size=1):\n",
    "    '''Generate multiple replicates where only one of the datasets is\n",
    "    permutated.'''\n",
    "\n",
    "    replicates = np.empty(size)\n",
    "\n",
    "    for i in range(size):\n",
    "        # Permutated dataset\n",
    "        permutated = np.random.permutation(to_permutate)\n",
    "\n",
    "        # Compute the test statistic\n",
    "        replicates[i] = func(use_as_is, permutated)\n",
    "\n",
    "    return replicates"
   ]
  },
  {
   "cell_type": "markdown",
   "metadata": {},
   "source": [
    "Run the experiments and calculate results."
   ]
  },
  {
   "cell_type": "code",
   "execution_count": 19,
   "metadata": {
    "colab": {},
    "colab_type": "code",
    "id": "BQkN1WvQOKTi"
   },
   "outputs": [],
   "source": [
    "replicates = draw_single_perm_reps(illiteracy, fertility, pearson_r, 100_000)\n",
    "\n",
    "empirical_pearson = pearson_r(fertility, illiteracy)\n",
    "experiments_above_empirical = np.sum(replicates > empirical_pearson)\n",
    "p_value = experiments_above_empirical / len(replicates)"
   ]
  },
  {
   "cell_type": "markdown",
   "metadata": {},
   "source": [
    "Report the results."
   ]
  },
  {
   "cell_type": "code",
   "execution_count": 20,
   "metadata": {},
   "outputs": [
    {
     "name": "stdout",
     "output_type": "stream",
     "text": [
      "The empirical Pearson coefficient = 0.8041324026815343\n",
      "The experimental mean Pearson coefficient = -0.00022136662717458816\n",
      "Out of 100,000 simulations, 0 are > the empirical Pearson coefficient\n",
      "p-value = 0.000000\n"
     ]
    }
   ],
   "source": [
    "print('The empirical Pearson coefficient = {}'.format(empirical_pearson))\n",
    "print('The experimental mean Pearson coefficient = {}'.format(np.mean(replicates)))\n",
    "print('Out of {:,} simulations, {} are > the empirical Pearson coefficient'.\\\n",
    "     format(len(replicates), experiments_above_empirical))\n",
    "print('p-value = {:f}'.format(p_value))"
   ]
  },
  {
   "cell_type": "markdown",
   "metadata": {
    "colab_type": "text",
    "id": "QtjTzR09-PyS"
   },
   "source": [
    "## Question 2 (6 points)\n",
    "\n",
    "2. How do you describe the result of your hypothesis testing based on the p-value calculated above?\n"
   ]
  },
  {
   "cell_type": "markdown",
   "metadata": {
    "colab_type": "text",
    "id": "RRG5lAHB-PyV"
   },
   "source": [
    "## Solution"
   ]
  },
  {
   "cell_type": "markdown",
   "metadata": {
    "colab_type": "text",
    "id": "YxJNmDgn-PyW"
   },
   "source": [
    "The null hypothesis, stated above, is:\n",
    "\n",
    "> the fertility of a given country may actually be totally independent of its illiteracy\n",
    "\n",
    "An interpretation of the p-value we calculated (p-value < $10^{-5}$) is that the chance that we would observe the empirical result (a Pearson coefficient of 0.8 between fertility and illiteracy), assuming the null hypothesis is true (considering the data we have) is less than 0.001%.\n",
    "\n",
    "Given the low p-value, it is unlikely that the null hypothesis is true. We, therefore, reject the null hypothesis and conclude that the relationship between fertility and illiteracy is unlikely to have occurred by chance."
   ]
  },
  {
   "cell_type": "markdown",
   "metadata": {
    "colab_type": "text",
    "id": "GLi0m9uuKkpD"
   },
   "source": [
    "## Conclusions (10 points)\n",
    "\n",
    "Write your conclusions and make sure to address the issues below:\n",
    "- What have you learned from this assignment?\n",
    "- Which parts were the most fun, time-consuming, enlightening, tedious?\n",
    "- What would you do if you had an additional week to work on this?"
   ]
  },
  {
   "cell_type": "markdown",
   "metadata": {
    "colab_type": "text",
    "id": "tmRWLHo5K99F"
   },
   "source": [
    "## Solution"
   ]
  },
  {
   "cell_type": "markdown",
   "metadata": {
    "colab_type": "text",
    "id": "ug_U9rd3K99G"
   },
   "source": [
    "### What have you learned from this assignment?"
   ]
  },
  {
   "cell_type": "markdown",
   "metadata": {},
   "source": [
    "* Create experimental data to calculate p-value\n",
    "* Think of the p-value in relative terms: \"less than a value\", instead of a specific value, given that we don't have all the data to assert a specific value (we can't run all the experiments for a large dataset)\n",
    "* What data to permutate, based on what we are analyzing"
   ]
  },
  {
   "cell_type": "markdown",
   "metadata": {},
   "source": [
    "### Which parts were the most fun, time-consuming, enlightening, tedious?"
   ]
  },
  {
   "cell_type": "markdown",
   "metadata": {},
   "source": [
    "Fun\n",
    "\n",
    "* Visualize the experimental distribution vs. the empirical values.\n",
    "\n",
    "Time-consuming\n",
    "\n",
    "* Understand how to interpret p-value without falling into any of the fallacies around it (and I'm still not sure I undrestand it well).\n",
    "\n",
    "Enlightening\n",
    "\n",
    "* Cassie Kozyrkov's video and articles\n",
    "    * The concept of \"default action\" to explain the null hypothesis.\n",
    "    * That learning \"nothing\" is not a problem at all (and should trigger the default action).\n",
    "    * The differece between frequentists and bayesians (changing actions vs. changing beliefs).\n",
    "\n",
    "Tedious\n",
    "\n",
    "* None"
   ]
  },
  {
   "cell_type": "markdown",
   "metadata": {},
   "source": [
    "### What would you do if you had an additional week to work on this?"
   ]
  },
  {
   "cell_type": "markdown",
   "metadata": {},
   "source": [
    "* Work on problems where the p-value is not so extreme, so that we have to think how to interpret the results in the absence of conclusive numbers.\n",
    "* Review Cassie Kozyrkov's articles to the point where I can explain the concepts on my own, as well as she is able to lay them out. I would start with [_Statistics for people in a hurry_](https://towardsdatascience.com/statistics-for-people-in-a-hurry-a9613c0ed0b). If I could explain all concepts in that article wihtout having to refer to it, I'd be happier with my understanding of statistics and hypotehesis testing in particular."
   ]
  }
 ],
 "metadata": {
  "colab": {
   "collapsed_sections": [
    "Sf9JB_ntOKTg"
   ],
   "name": "CAP5768_Assignment1.ipynb",
   "provenance": [],
   "version": "0.3.2"
  },
  "kernelspec": {
   "display_name": "Python 3 (ipykernel)",
   "language": "python",
   "name": "python3"
  },
  "language_info": {
   "codemirror_mode": {
    "name": "ipython",
    "version": 3
   },
   "file_extension": ".py",
   "mimetype": "text/x-python",
   "name": "python",
   "nbconvert_exporter": "python",
   "pygments_lexer": "ipython3",
   "version": "3.9.7"
  }
 },
 "nbformat": 4,
 "nbformat_minor": 4
}
