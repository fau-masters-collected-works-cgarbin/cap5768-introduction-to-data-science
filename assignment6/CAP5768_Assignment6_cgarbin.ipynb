{
 "cells": [
  {
   "cell_type": "markdown",
   "metadata": {
    "colab_type": "text",
    "id": "p78j872pOKTZ"
   },
   "source": [
    "# CAP 5768 - Data Science - Dr. Marques - Fall 2019\n",
    "\n",
    "Christian Garbin"
   ]
  },
  {
   "cell_type": "markdown",
   "metadata": {
    "colab_type": "text",
    "id": "NYmNMHGLOKTa"
   },
   "source": [
    "## Assignment 6: Regression Analysis\n",
    "## Starter code"
   ]
  },
  {
   "cell_type": "markdown",
   "metadata": {
    "colab_type": "text",
    "id": "9UMnsRndOKTb"
   },
   "source": [
    "### Goals \n",
    "\n",
    "- To learn how to use perform linear regression by least squares using Python and scikit-learn.\n",
    "- To appreciate that the same linear regression coefficients may be the best fit for dramatically different data distributions -- as illustrated by the Anscombe's quartet.\n",
    "- To practice with different types of regularization (*lasso* and *ridge*) and understand when to use them.\n",
    "- To expand upon the prior experience of manipulating, summarizing, and visualizing small datasets.\n",
    "- To increase our statistical analysis skills."
   ]
  },
  {
   "cell_type": "markdown",
   "metadata": {
    "colab_type": "text",
    "id": "B0rEAT7MOKTb"
   },
   "source": [
    "### Instructions\n",
    "\n",
    "- This assignment is structured in 4 parts.\n",
    "- As usual, there will be some Python code to be written and questions to be answered.\n",
    "- At the end, you should export your notebook to PDF format; it will become your report.\n",
    "- Submit the report (PDF), notebook (.ipynb file), and (optionally) link to the \"live\" version of your solution on Google Colaboratory via Canvas.\n",
    "- The total number of points is 126 (plus up to 60 bonus points)."
   ]
  },
  {
   "cell_type": "markdown",
   "metadata": {
    "colab_type": "text",
    "id": "qiufouQn6OD9"
   },
   "source": [
    "### Important\n",
    "\n",
    "- It is OK to attempt the bonus points, but please **do not overdo it!** "
   ]
  },
  {
   "cell_type": "code",
   "execution_count": 1,
   "metadata": {
    "colab": {
     "base_uri": "https://localhost:8080/",
     "height": 34
    },
    "colab_type": "code",
    "id": "4dkSabDG5gjc",
    "outputId": "3c3cdd00-171e-4e91-9bcc-67f79eceeb70"
   },
   "outputs": [],
   "source": [
    "#Imports\n",
    "import numpy as np\n",
    "import matplotlib.pyplot as plt\n",
    "import pandas as pd\n",
    "%matplotlib inline\n",
    "import seaborn as sns; sns.set()\n",
    "import scipy.stats as ss"
   ]
  },
  {
   "cell_type": "markdown",
   "metadata": {},
   "source": [
    "To get more consistent results across runs:"
   ]
  },
  {
   "cell_type": "code",
   "execution_count": 2,
   "metadata": {},
   "outputs": [],
   "source": [
    "np.random.seed(42)"
   ]
  },
  {
   "cell_type": "markdown",
   "metadata": {},
   "source": [
    "-------------------\n",
    "## Part 1: Linear regression by least squares\n",
    "\n",
    "In this part, we will take another look at the correlation between female literacy and fertility (defined as the average number of children born per woman) throughout the world. For ease of analysis and interpretation, we will work with the *illiteracy* rate.\n",
    "\n",
    "The Python code below plots the fertility versus illiteracy and computes the Pearson correlation coefficient. The Numpy array `illiteracy` has the illiteracy rate among females for most of the world's nations. The array `fertility` has the corresponding fertility data."
   ]
  },
  {
   "cell_type": "code",
   "execution_count": 3,
   "metadata": {},
   "outputs": [
    {
     "data": {
      "image/png": "[encoded data removed]",
      "text/plain": [
       "<Figure size 432x288 with 1 Axes>"
      ]
     },
     "metadata": {
      "needs_background": "light"
     },
     "output_type": "display_data"
    },
    {
     "name": "stdout",
     "output_type": "stream",
     "text": [
      "Pearson correlation coefficient between illiteracy and fertility: 0.80413\n"
     ]
    }
   ],
   "source": [
    "df = pd.read_csv('data/female_literacy_fertility.csv')\n",
    "\n",
    "illiteracy = 100 - df['female literacy']\n",
    "\n",
    "fertility = df['fertility']\n",
    "\n",
    "def pearson_r(x, y):\n",
    "    \"\"\"Compute Pearson correlation coefficient between two arrays.\"\"\"\n",
    "    # Compute correlation matrix: corr_mat\n",
    "    corr_mat = np.corrcoef(x, y)\n",
    "\n",
    "    # Return entry [0,1]\n",
    "    return corr_mat[0,1]\n",
    "\n",
    "# Plot the illiteracy rate versus fertility\n",
    "_ = plt.plot(illiteracy, fertility, marker='.', linestyle='none')\n",
    "\n",
    "# Set the margins and label axes\n",
    "plt.margins(0.02)\n",
    "_ = plt.xlabel('% illiterate')\n",
    "_ = plt.ylabel('fertility')\n",
    "\n",
    "# Show the plot\n",
    "plt.show()\n",
    "\n",
    "# Show the Pearson correlation coefficient\n",
    "print('Pearson correlation coefficient between illiteracy and fertility: {:.5f}'.format(pearson_r(illiteracy, fertility)))"
   ]
  },
  {
   "cell_type": "markdown",
   "metadata": {},
   "source": [
    "## Your turn! (25 points)\n",
    "\n",
    "We will assume that fertility is a linear function of the female illiteracy rate: `f=ai+b`, where `a` is the slope and `b` is the intercept. \n",
    "\n",
    "We can think of the intercept as the minimal fertility rate, probably somewhere between one and two. \n",
    "\n",
    "The slope tells us how the fertility rate varies with illiteracy. \n",
    "We can find the best fit line .\n",
    "\n",
    "Write code to plot the data and the best fit line (using `np.polyfit()`) and print out the slope and intercept."
   ]
  },
  {
   "cell_type": "markdown",
   "metadata": {
    "colab_type": "text",
    "id": "tdOZPjis7Phf"
   },
   "source": [
    "## Solution"
   ]
  },
  {
   "cell_type": "markdown",
   "metadata": {},
   "source": [
    "Best fit line (a one-degree polynomial)"
   ]
  },
  {
   "cell_type": "code",
   "execution_count": 4,
   "metadata": {
    "colab": {},
    "colab_type": "code",
    "id": "BQkN1WvQOKTi"
   },
   "outputs": [],
   "source": [
    "line = np.polyfit(illiteracy, fertility, 1)"
   ]
  },
  {
   "cell_type": "markdown",
   "metadata": {},
   "source": [
    "Auxiliary function to plot a line, given the slope and the intercept"
   ]
  },
  {
   "cell_type": "code",
   "execution_count": 14,
   "metadata": {},
   "outputs": [],
   "source": [
    "# Courtesy of https://stackoverflow.com/a/43811762/336802\n",
    "def abline(slope, intercept):\n",
    "    \"\"\"Plot a line from slope and intercept\"\"\"\n",
    "    axes = plt.gca()\n",
    "    x_vals = np.array(axes.get_xlim())\n",
    "    y_vals = intercept + slope * x_vals\n",
    "    plt.plot(x_vals, y_vals, '-')"
   ]
  },
  {
   "cell_type": "markdown",
   "metadata": {},
   "source": [
    "Plot the best fit line and its values"
   ]
  },
  {
   "cell_type": "code",
   "execution_count": 15,
   "metadata": {
    "colab": {},
    "colab_type": "code",
    "id": "BQkN1WvQOKTi"
   },
   "outputs": [
    {
     "data": {
      "image/png": "[encoded data removed]",
      "text/plain": [
       "<Figure size 432x288 with 1 Axes>"
      ]
     },
     "metadata": {
      "needs_background": "light"
     },
     "output_type": "display_data"
    },
    {
     "name": "stdout",
     "output_type": "stream",
     "text": [
      "The best fit line has slope 0.05 and intercept 1.89\n"
     ]
    }
   ],
   "source": [
    "# Plot the illiteracy rate versus fertility\n",
    "_ = plt.plot(illiteracy, fertility, marker='.', linestyle='none')\n",
    "\n",
    "# Plot the fit line\n",
    "abline(line[0], line[1])\n",
    "    \n",
    "# Set the margins and label axes\n",
    "plt.margins(0.02)\n",
    "_ = plt.xlabel('% illiterate')\n",
    "_ = plt.ylabel('fertility')\n",
    "\n",
    "plt.show()\n",
    "\n",
    "print('The best fit line has slope {:.2f} and intercept {:.2f}'.format(\n",
    "    line[0], line[1]))"
   ]
  },
  {
   "attachments": {
    "plot.png": {
     "image/png": "[encoded data removed]"
    }
   },
   "cell_type": "markdown",
   "metadata": {},
   "source": [
    "## BONUS! (15 points)\n",
    "\n",
    "The function `np.polyfit()` that you used above to get your regression parameters finds the optimal slope and intercept. It is optimizing the the _residual sum of squares (RSS)_, also known as the _sum of squared residuals (SSR)_ or the _sum of squared estimate of errors (SSE)_, which can be defined as \"the sum of the squares of residuals (deviations predicted from actual empirical values of data).\" (see https://en.wikipedia.org/wiki/Residual_sum_of_squares)\n",
    "\n",
    "Write code to plot the function that is being optimized, the RSS, versus the slope parameter `a`. To do this, fix the intercept (`b`) to be what you found in the optimization. Then, plot the RSS vs. the slope. Where is it minimal?\n",
    "\n",
    "Hint: use a `for` loop to draw 100,000 permutation replicates and compute the Pearson correlation coefficient for each of them.\n",
    "\n",
    "Your plot will probably look like this:\n",
    "\n",
    "![RSS by slope](notebook_images/slope_rss.png)\n"
   ]
  },
  {
   "cell_type": "markdown",
   "metadata": {
    "colab_type": "text",
    "id": "tdOZPjis7Phf"
   },
   "source": [
    "## Solution"
   ]
  },
  {
   "cell_type": "code",
   "execution_count": null,
   "metadata": {
    "colab": {},
    "colab_type": "code",
    "id": "BQkN1WvQOKTi"
   },
   "outputs": [],
   "source": [
    "# ENTER YOUR CODE HERE\n",
    "# ...\n",
    "# ...\n",
    "# ..."
   ]
  },
  {
   "cell_type": "code",
   "execution_count": null,
   "metadata": {},
   "outputs": [],
   "source": []
  },
  {
   "attachments": {
    "Anscombes_Quartet.png": {
     "image/png": "[encoded data removed]"
    }
   },
   "cell_type": "markdown",
   "metadata": {},
   "source": [
    "-------------------\n",
    "## Part 2: Anscombe's quartet\n",
    "\n",
    "The Anscombe's quartet is a collection of four small data sets that have nearly identical simple descriptive statistics, yet have very different distributions. Each dataset consists of 11 `(x,y)` points. The quartet was created in 1973 by the statistician Francis Anscombe to demonstrate: the importance of visualization and exploratory data analysis (EDA), the effect of outliers and other influential observations on statistical properties, and the limitations of summary statistics (\\*).\n",
    "\n",
    "(\\*) See https://heap.io/blog/data-stories/anscombes-quartet-and-why-summary-statistics-dont-tell-the-whole-story if you're interested.\n",
    "\n",
    "![Anscombes Quartet](notebook_images/anscombe_quartet.png)\n",
    "\n",
    "The Python code below performs a linear regression on the data set from Anscombe's quartet that is most reasonably interpreted with linear regression."
   ]
  },
  {
   "cell_type": "code",
   "execution_count": null,
   "metadata": {},
   "outputs": [],
   "source": [
    "x1 = [10.0, 8.0,  13.0,  9.0,  11.0, 14.0, 6.0,  4.0,  12.0,  7.0,  5.0]\n",
    "y1 = [8.04, 6.95, 7.58,  8.81, 8.33, 9.96, 7.24, 4.26, 10.84, 4.82, 5.68]\n",
    "\n",
    "x2 = [10.0, 8.0,  13.0,  9.0,  11.0, 14.0, 6.0,  4.0,  12.0,  7.0,  5.0]\n",
    "y2 = [9.14, 8.14, 8.74,  8.77, 9.26, 8.10, 6.13, 3.10, 9.13,  7.26, 4.74]\n",
    "\n",
    "x3 = [10.0, 8.0,  13.0,  9.0,  11.0, 14.0, 6.0,  4.0,  12.0,  7.0,  5.0]\n",
    "y3 = [7.46, 6.77, 12.74, 7.11, 7.81, 8.84, 6.08, 5.39, 8.15,  6.42, 5.73]\n",
    "\n",
    "x4 = [8.0,  8.0,  8.0,   8.0,  8.0,  8.0,  8.0,  19.0,  8.0,  8.0,  8.0]\n",
    "y4 = [6.58, 5.76, 7.71,  8.84, 8.47, 7.04, 5.25, 12.50, 5.56, 7.91, 6.89]"
   ]
  },
  {
   "cell_type": "code",
   "execution_count": null,
   "metadata": {
    "scrolled": true
   },
   "outputs": [],
   "source": [
    "# Perform linear regression: a, b\n",
    "a, b = np.polyfit(x1, y1, 1)\n",
    "\n",
    "# Print the slope and intercept\n",
    "print('slope =', a)\n",
    "print('intercept =', b)\n",
    "\n",
    "# Generate theoretical x and y data: x_theor, y_theor\n",
    "x_theor = np.array([3, 15])\n",
    "y_theor = a * x_theor + b\n",
    "\n",
    "# Plot the Anscombe data and theoretical line\n",
    "_ = plt.plot(x1, y1, marker='.', linestyle='none')\n",
    "_ = plt.plot(x_theor, y_theor)\n",
    "\n",
    "# Label the axes\n",
    "plt.xlabel('x')\n",
    "plt.ylabel('y')\n",
    "\n",
    "# Show the plot\n",
    "plt.show()"
   ]
  },
  {
   "cell_type": "markdown",
   "metadata": {},
   "source": [
    "## Your turn! (25 points)\n",
    "\n",
    "### Linear regression on all Anscombe data\n",
    "\n",
    "Write code to verify that all four of the Anscombe data sets have the same slope and intercept from a linear regression, i.e. compute the slope and intercept for each set. \n",
    "\n",
    "The data are stored in lists (`anscombe_x = [x1, x2, x3, x4]` and `anscombe_y = [y1, y2, y3, y4]`), corresponding to the $x$ and $y$ values for each Anscombe data set."
   ]
  },
  {
   "cell_type": "markdown",
   "metadata": {
    "colab_type": "text",
    "id": "tdOZPjis7Phf"
   },
   "source": [
    "## Solution"
   ]
  },
  {
   "cell_type": "code",
   "execution_count": null,
   "metadata": {
    "colab": {},
    "colab_type": "code",
    "id": "BQkN1WvQOKTi"
   },
   "outputs": [],
   "source": [
    "anscombe_x = [x1, x2, x3, x4]\n",
    "anscombe_y = [y1, y2, y3, y4]\n",
    "\n",
    "# ENTER YOUR CODE HERE\n",
    "# ...\n",
    "# ...\n",
    "# ..."
   ]
  },
  {
   "cell_type": "markdown",
   "metadata": {},
   "source": [
    "-------------------\n",
    "## Part 3: Regression using scikit-learn\n",
    "\n",
    "Now that we know the basics of linear regression, we will switch to scikit-learn, a powerful, workflow-oriented library for data science and machine learning.\n",
    "\n",
    "The Python code below shows a simple linear regression example using scikit-learn. Note the use of the `fit()` and `predict()` methods."
   ]
  },
  {
   "cell_type": "code",
   "execution_count": null,
   "metadata": {},
   "outputs": [],
   "source": [
    "import matplotlib.pyplot as plt\n",
    "import numpy as np\n",
    "\n",
    "# Generate random data around the y = ax+b line where a=3 and b=-2\n",
    "rng = np.random.RandomState(42)\n",
    "x = 10 * rng.rand(50)\n",
    "y = 3 * x - 2 + rng.randn(50)\n",
    "\n",
    "from sklearn.linear_model import LinearRegression\n",
    "\n",
    "# Note: If you get a \"ModuleNotFoundError: No module named 'sklearn'\" error message, don't panic.\n",
    "# It probably means you'll have to install the module by hand if you're using pip. \n",
    "# If you're using conda, you should not see any error message.\n",
    "\n",
    "model = LinearRegression(fit_intercept=True)\n",
    "\n",
    "X = x[:, np.newaxis]\n",
    "X.shape\n",
    "\n",
    "model.fit(X, y)\n",
    "print(model.coef_)\n",
    "print(model.intercept_)\n",
    "\n",
    "xfit = np.linspace(-1, 11)\n",
    "Xfit = xfit[:, np.newaxis]\n",
    "yfit = model.predict(Xfit)\n",
    "\n",
    "plt.scatter(x, y)\n",
    "plt.plot(xfit, yfit);"
   ]
  },
  {
   "cell_type": "markdown",
   "metadata": {},
   "source": [
    "## Polynomial regression\n",
    "\n",
    "One way to adapt linear regression to nonlinear relationships between variables is to transform the data according to *basis functions*.\n",
    "\n",
    "The idea is to take the multidimensional linear model:\n",
    "$$\n",
    "y = a_0 + a_1 x_1 + a_2 x_2 + a_3 x_3 + \\cdots\n",
    "$$\n",
    "and build the $x_1, x_2, x_3,$ and so on, from our single-dimensional input $x$.\n",
    "That is, we let $x_n = f_n(x)$, where $f_n()$ is some function that transforms our data.\n",
    "\n",
    "For example, if $f_n(x) = x^n$, our model becomes a polynomial regression:\n",
    "$$\n",
    "y = a_0 + a_1 x + a_2 x^2 + a_3 x^3 + \\cdots\n",
    "$$\n",
    "Notice that this is *still a linear model*—the linearity refers to the fact that the coefficients $a_n$ never multiply or divide each other.\n",
    "What we have effectively done is taken our one-dimensional $x$ values and projected them into a higher dimension, so that a linear fit can fit more complicated relationships between $x$ and $y$.\n",
    "\n",
    "The code below shows a simple example of polynomial regression using the ``PolynomialFeatures`` transformer in scikit-learn. Concretely, it shows how we can use polynomial features with a polynomial of degree seven, i.e. $$y = a_0 + a_1 x + a_2 x^2 + a_3 x^3 + \\cdots + a_7 x^7$$ \n",
    "\n",
    "It also introduces the notion of a *pipeline* in scikit-learn. \"The purpose of the pipeline is to assemble several steps that can be cross-validated together while setting different parameters.\" (https://scikit-learn.org/stable/modules/generated/sklearn.pipeline.Pipeline.html) "
   ]
  },
  {
   "cell_type": "code",
   "execution_count": null,
   "metadata": {},
   "outputs": [],
   "source": [
    "from sklearn.preprocessing import PolynomialFeatures\n",
    "from sklearn.pipeline import make_pipeline\n",
    "poly_model = make_pipeline(PolynomialFeatures(7),\n",
    "                           LinearRegression())\n",
    "\n",
    "rng = np.random.RandomState(1)\n",
    "x = 10 * rng.rand(100)\n",
    "y = np.sin(x) + 0.1 * rng.randn(100)\n",
    "\n",
    "poly_model.fit(x[:, np.newaxis], y)\n",
    "yfit = poly_model.predict(xfit[:, np.newaxis])\n",
    "plt.scatter(x, y)\n",
    "plt.plot(xfit, yfit);\n",
    "\n",
    "print('The R^2 score for the fit is: ', poly_model.score(x[:, np.newaxis], y))"
   ]
  },
  {
   "cell_type": "markdown",
   "metadata": {},
   "source": [
    "Our linear model, through the use of 7th-order polynomial basis functions, can provide an excellent fit to this non-linear data!"
   ]
  },
  {
   "cell_type": "markdown",
   "metadata": {
    "colab_type": "text",
    "id": "QtjTzR09-PyS"
   },
   "source": [
    "## Questions 1-3 (12 points, i.e. 4 pts each)\n",
    "\n",
    "1. Which mathematical function was used to simulate the data points (with a bit of random noise around them)? \n",
    "2. Which degree/order was used for the polynomial basis functions?\n",
    "3. How good was the linear model fit to the non-linear data?\n"
   ]
  },
  {
   "cell_type": "markdown",
   "metadata": {
    "colab_type": "text",
    "id": "RRG5lAHB-PyV"
   },
   "source": [
    "## Solution"
   ]
  },
  {
   "cell_type": "markdown",
   "metadata": {
    "colab_type": "text",
    "id": "YxJNmDgn-PyW"
   },
   "source": [
    "(ENTER YOUR ANSWER HERE)"
   ]
  },
  {
   "attachments": {
    "download.png": {
     "image/png": "[encoded data removed]"
    }
   },
   "cell_type": "markdown",
   "metadata": {},
   "source": [
    "## Your turn (18 points)\n",
    "\n",
    "Write code to find the best degree/order for the polynomial basis functions (between 1 and 15) by computing the quality of the fit using a suitable metric, in this case the $R^2$ coefficient (which can be computer using the `score()` function). \n",
    "\n",
    "Remember that **the best possible score is 1.0**. The score can be negative (because the model can be arbitrarily worse). A score of 0 suggests a constant model that always predicts the expected value of y, disregarding the input features.\n",
    "\n",
    "Hint: If you plot the score against the degree/order of the polynomial, you should see something like this:\n",
    "\n",
    "![R squared coefficient](notebook_images/r2_coefficient.png)"
   ]
  },
  {
   "cell_type": "markdown",
   "metadata": {
    "colab_type": "text",
    "id": "tdOZPjis7Phf"
   },
   "source": [
    "## Solution"
   ]
  },
  {
   "cell_type": "code",
   "execution_count": null,
   "metadata": {
    "colab": {},
    "colab_type": "code",
    "id": "BQkN1WvQOKTi"
   },
   "outputs": [],
   "source": [
    "# ENTER YOUR CODE HERE\n",
    "# ...\n",
    "# ...\n",
    "# ..."
   ]
  },
  {
   "cell_type": "markdown",
   "metadata": {
    "colab_type": "text",
    "id": "QtjTzR09-PyS"
   },
   "source": [
    "## Questions 4-6 (12 points, i.e. 4 pts each)\n",
    "\n",
    "4. Which degree/order polynomial produced the best fit (i.e., highest $R^2$ score)? \n",
    "5. Would you consider using the resulting polynomial as your model? Why (not)?\n",
    "6. If you answered 'no' to question 5 (as you should!), which degree would you choose for your polynomial regression model?\n"
   ]
  },
  {
   "cell_type": "markdown",
   "metadata": {
    "colab_type": "text",
    "id": "RRG5lAHB-PyV"
   },
   "source": [
    "## Solution"
   ]
  },
  {
   "cell_type": "markdown",
   "metadata": {
    "colab_type": "text",
    "id": "YxJNmDgn-PyW"
   },
   "source": [
    "(ENTER YOUR ANSWER HERE)"
   ]
  },
  {
   "cell_type": "markdown",
   "metadata": {},
   "source": [
    "## Part 4: Regularization\n",
    "\n",
    "The use of polynomial regression with high-order polynomials can very quickly lead to over-fitting. In this part, we will look into the use of regularization to address potential overfitting.\n",
    "\n",
    "The code below shows an attempt to fit a 15th degree polynomial to a sinusoidal shaped data. The fit is excellent ($R^2$ > 0.98), but might raise suspicions that it will lead to overfitting."
   ]
  },
  {
   "cell_type": "code",
   "execution_count": null,
   "metadata": {},
   "outputs": [],
   "source": [
    "model = make_pipeline(PolynomialFeatures(15),\n",
    "                      LinearRegression())\n",
    "model.fit(x[:, np.newaxis], y)\n",
    "\n",
    "plt.scatter(x, y)\n",
    "plt.plot(xfit, model.predict(xfit[:, np.newaxis]))\n",
    "\n",
    "plt.xlim(0, 10)\n",
    "plt.ylim(-1.5, 1.5);\n",
    "\n",
    "score = poly_model.score(x[:, np.newaxis], y)\n",
    "print(score)"
   ]
  },
  {
   "cell_type": "markdown",
   "metadata": {},
   "source": [
    "## Your turn! (10 points)\n",
    "\n",
    "Write Python code to perform Ridge regression ($L_2$ Regularization), plot the resulting fit, and compute the $R^2$ score.\n",
    "\n",
    "Hints: \n",
    "1. This type of penalized model is built into Scikit-Learn with the ``Ridge`` estimator. \n",
    "2. In the beginning, use all default values for its parameters.\n",
    "3. After you get your code to work, spend some time trying to fine-tune the model, i.e., experimenting with the regularization parameters."
   ]
  },
  {
   "cell_type": "markdown",
   "metadata": {
    "colab_type": "text",
    "id": "tdOZPjis7Phf"
   },
   "source": [
    "## Solution"
   ]
  },
  {
   "cell_type": "code",
   "execution_count": null,
   "metadata": {
    "colab": {},
    "colab_type": "code",
    "id": "BQkN1WvQOKTi"
   },
   "outputs": [],
   "source": [
    "# ENTER YOUR CODE HERE\n",
    "# ...\n",
    "# ...\n",
    "# ..."
   ]
  },
  {
   "cell_type": "markdown",
   "metadata": {},
   "source": [
    "## Your turn! (10 points)\n",
    "\n",
    "Write Python code to perform Lasso regression ($L_1$ Regularization), plot the resulting fit, and compute the $R^2$ score.\n",
    "\n",
    "Hints: \n",
    "1. This type of penalized model is built into Scikit-Learn with the ``Lasso`` estimator. \n",
    "2. In the beginning, use `Lasso(alpha=0.1, tol=0.2)`\n",
    "3. After you get your code to work, spend some time trying to fine-tune the model, i.e., experimenting with the regularization parameters."
   ]
  },
  {
   "cell_type": "markdown",
   "metadata": {
    "colab_type": "text",
    "id": "tdOZPjis7Phf"
   },
   "source": [
    "## Solution"
   ]
  },
  {
   "cell_type": "code",
   "execution_count": null,
   "metadata": {
    "colab": {},
    "colab_type": "code",
    "id": "BQkN1WvQOKTi"
   },
   "outputs": [],
   "source": [
    "# ENTER YOUR CODE HERE\n",
    "# ...\n",
    "# ...\n",
    "# ..."
   ]
  },
  {
   "cell_type": "markdown",
   "metadata": {
    "colab_type": "text",
    "id": "QtjTzR09-PyS"
   },
   "source": [
    "## Question 7 (4 points)\n",
    "\n",
    "7. Which of the two regularization approaches produced a better fit (and was also the easiest to fine-tune)?\n"
   ]
  },
  {
   "cell_type": "markdown",
   "metadata": {
    "colab_type": "text",
    "id": "RRG5lAHB-PyV"
   },
   "source": [
    "## Solution"
   ]
  },
  {
   "cell_type": "markdown",
   "metadata": {
    "colab_type": "text",
    "id": "YxJNmDgn-PyW"
   },
   "source": [
    "(ENTER YOUR ANSWER HERE)"
   ]
  },
  {
   "cell_type": "markdown",
   "metadata": {},
   "source": [
    "## Bonus! (30 points)\n",
    "\n",
    "The Boston housing dataset is a classic dataset used in linear regression examples.\n",
    "(See https://scikit-learn.org/stable/datasets/index.html#boston-dataset for more)\n",
    "\n",
    "The Python code below:\n",
    "- Loads the Boston dataset (using scikit-learn's `load_boston()`) and converts it into a Pandas dataframe\n",
    "- Selects two features to be used for fitting a model that will then be used to make predictions: LSTAT (% lower status of the population) and RM (average number of rooms per dwelling) (\\*)\n",
    "- Splits the data into train and test sets\n",
    "\n",
    "(\\*) See https://towardsdatascience.com/linear-regression-on-boston-housing-dataset-f409b7e4a155 for details."
   ]
  },
  {
   "cell_type": "code",
   "execution_count": null,
   "metadata": {},
   "outputs": [],
   "source": [
    "from sklearn.datasets import load_boston\n",
    "boston_dataset = load_boston()\n",
    "boston = pd.DataFrame(boston_dataset.data, columns=boston_dataset.feature_names)\n",
    "boston.head()"
   ]
  },
  {
   "cell_type": "code",
   "execution_count": null,
   "metadata": {},
   "outputs": [],
   "source": [
    "boston['MEDV'] = boston_dataset.target\n",
    "X = pd.DataFrame(np.c_[boston['LSTAT'], boston['RM']], columns = ['LSTAT','RM'])\n",
    "y = boston['MEDV']\n",
    "\n",
    "from sklearn.model_selection import train_test_split\n",
    "\n",
    "X_train, X_test, y_train, y_test = train_test_split(X, y, test_size = 0.2, random_state=5)\n",
    "print(X_train.shape)\n",
    "print(X_test.shape)\n",
    "print(y_train.shape)\n",
    "print(y_test.shape)"
   ]
  },
  {
   "cell_type": "markdown",
   "metadata": {},
   "source": [
    "Write Python code to:\n",
    "\n",
    "1. Fit a linear model to the data.\n",
    "2. Compute and print the RMSE and $R^2$ score for both train and test datasets.\n",
    "3. Fit a polynomial model (of degree 4) to the data.\n",
    "4. Compute and print the RMSE and $R^2$ score for both train and test datasets.\n",
    "5. Apply Ridge regression to the polynomial model.\n",
    "4. Compute and print the RMSE and $R^2$ score for both train and test datasets."
   ]
  },
  {
   "cell_type": "markdown",
   "metadata": {
    "colab_type": "text",
    "id": "tdOZPjis7Phf"
   },
   "source": [
    "## Solution"
   ]
  },
  {
   "cell_type": "code",
   "execution_count": null,
   "metadata": {
    "colab": {},
    "colab_type": "code",
    "id": "BQkN1WvQOKTi"
   },
   "outputs": [],
   "source": [
    "# ENTER YOUR CODE HERE\n",
    "# ...\n",
    "# ...\n",
    "# ..."
   ]
  },
  {
   "cell_type": "markdown",
   "metadata": {
    "colab_type": "text",
    "id": "GLi0m9uuKkpD"
   },
   "source": [
    "## Conclusions (10 points)\n",
    "\n",
    "Write your conclusions and make sure to address the issues below:\n",
    "- What have you learned from this assignment?\n",
    "- Which parts were the most fun, time-consuming, enlightening, tedious?\n",
    "- What would you do if you had an additional week to work on this?"
   ]
  },
  {
   "cell_type": "markdown",
   "metadata": {
    "colab_type": "text",
    "id": "tmRWLHo5K99F"
   },
   "source": [
    "## Solution"
   ]
  },
  {
   "cell_type": "markdown",
   "metadata": {
    "colab_type": "text",
    "id": "ug_U9rd3K99G"
   },
   "source": [
    "(WRITE YOUR CONCLUSIONS HERE)"
   ]
  }
 ],
 "metadata": {
  "colab": {
   "collapsed_sections": [
    "Sf9JB_ntOKTg"
   ],
   "name": "CAP5768_Assignment1.ipynb",
   "provenance": [],
   "version": "0.3.2"
  },
  "kernelspec": {
   "display_name": "Python 3",
   "language": "python",
   "name": "python3"
  },
  "language_info": {
   "codemirror_mode": {
    "name": "ipython",
    "version": 3
   },
   "file_extension": ".py",
   "mimetype": "text/x-python",
   "name": "python",
   "nbconvert_exporter": "python",
   "pygments_lexer": "ipython3",
   "version": "3.7.2"
  }
 },
 "nbformat": 4,
 "nbformat_minor": 4
}
