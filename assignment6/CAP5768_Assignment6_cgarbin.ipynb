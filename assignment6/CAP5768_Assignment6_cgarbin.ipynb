{
 "cells": [
  {
   "cell_type": "markdown",
   "metadata": {
    "colab_type": "text",
    "id": "p78j872pOKTZ"
   },
   "source": [
    "# CAP 5768 - Data Science - Dr. Marques - Fall 2019\n",
    "\n",
    "Christian Garbin"
   ]
  },
  {
   "cell_type": "markdown",
   "metadata": {
    "colab_type": "text",
    "id": "NYmNMHGLOKTa"
   },
   "source": [
    "## Assignment 6: Regression Analysis\n",
    "## Starter code"
   ]
  },
  {
   "cell_type": "markdown",
   "metadata": {
    "colab_type": "text",
    "id": "9UMnsRndOKTb"
   },
   "source": [
    "### Goals \n",
    "\n",
    "- To learn how to use perform linear regression by least squares using Python and scikit-learn.\n",
    "- To appreciate that the same linear regression coefficients may be the best fit for dramatically different data distributions -- as illustrated by the Anscombe's quartet.\n",
    "- To practice with different types of regularization (*lasso* and *ridge*) and understand when to use them.\n",
    "- To expand upon the prior experience of manipulating, summarizing, and visualizing small datasets.\n",
    "- To increase our statistical analysis skills."
   ]
  },
  {
   "cell_type": "markdown",
   "metadata": {
    "colab_type": "text",
    "id": "B0rEAT7MOKTb"
   },
   "source": [
    "### Instructions\n",
    "\n",
    "- This assignment is structured in 4 parts.\n",
    "- As usual, there will be some Python code to be written and questions to be answered.\n",
    "- At the end, you should export your notebook to PDF format; it will become your report.\n",
    "- Submit the report (PDF), notebook (.ipynb file), and (optionally) link to the \"live\" version of your solution on Google Colaboratory via Canvas.\n",
    "- The total number of points is 126 (plus up to 60 bonus points)."
   ]
  },
  {
   "cell_type": "markdown",
   "metadata": {
    "colab_type": "text",
    "id": "qiufouQn6OD9"
   },
   "source": [
    "### Important\n",
    "\n",
    "- It is OK to attempt the bonus points, but please **do not overdo it!** "
   ]
  },
  {
   "cell_type": "code",
   "execution_count": 1,
   "metadata": {
    "colab": {
     "base_uri": "https://localhost:8080/",
     "height": 34
    },
    "colab_type": "code",
    "id": "4dkSabDG5gjc",
    "outputId": "3c3cdd00-171e-4e91-9bcc-67f79eceeb70"
   },
   "outputs": [],
   "source": [
    "#Imports\n",
    "import numpy as np\n",
    "import matplotlib.pyplot as plt\n",
    "import pandas as pd\n",
    "%matplotlib inline\n",
    "import seaborn as sns; sns.set()\n",
    "import scipy.stats as ss"
   ]
  },
  {
   "cell_type": "markdown",
   "metadata": {},
   "source": [
    "To get more consistent results across runs:"
   ]
  },
  {
   "cell_type": "code",
   "execution_count": 2,
   "metadata": {},
   "outputs": [],
   "source": [
    "np.random.seed(42)"
   ]
  },
  {
   "cell_type": "markdown",
   "metadata": {},
   "source": [
    "-------------------\n",
    "## Part 1: Linear regression by least squares\n",
    "\n",
    "In this part, we will take another look at the correlation between female literacy and fertility (defined as the average number of children born per woman) throughout the world. For ease of analysis and interpretation, we will work with the *illiteracy* rate.\n",
    "\n",
    "The Python code below plots the fertility versus illiteracy and computes the Pearson correlation coefficient. The Numpy array `illiteracy` has the illiteracy rate among females for most of the world's nations. The array `fertility` has the corresponding fertility data."
   ]
  },
  {
   "cell_type": "code",
   "execution_count": 3,
   "metadata": {},
   "outputs": [
    {
     "data": {
      "image/png": "[encoded data removed]",
      "text/plain": [
       "<Figure size 432x288 with 1 Axes>"
      ]
     },
     "metadata": {},
     "output_type": "display_data"
    },
    {
     "name": "stdout",
     "output_type": "stream",
     "text": [
      "Pearson correlation coefficient between illiteracy and fertility: 0.80413\n"
     ]
    }
   ],
   "source": [
    "df = pd.read_csv('data/female_literacy_fertility.csv')\n",
    "\n",
    "illiteracy = 100 - df['female literacy']\n",
    "\n",
    "fertility = df['fertility']\n",
    "\n",
    "def pearson_r(x, y):\n",
    "    \"\"\"Compute Pearson correlation coefficient between two arrays.\"\"\"\n",
    "    # Compute correlation matrix: corr_mat\n",
    "    corr_mat = np.corrcoef(x, y)\n",
    "\n",
    "    # Return entry [0,1]\n",
    "    return corr_mat[0,1]\n",
    "\n",
    "# Plot the illiteracy rate versus fertility\n",
    "_ = plt.plot(illiteracy, fertility, marker='.', linestyle='none')\n",
    "\n",
    "# Set the margins and label axes\n",
    "plt.margins(0.02)\n",
    "_ = plt.xlabel('% illiterate')\n",
    "_ = plt.ylabel('fertility')\n",
    "\n",
    "# Show the plot\n",
    "plt.show()\n",
    "\n",
    "# Show the Pearson correlation coefficient\n",
    "print('Pearson correlation coefficient between illiteracy and fertility: {:.5f}'.format(pearson_r(illiteracy, fertility)))"
   ]
  },
  {
   "cell_type": "markdown",
   "metadata": {},
   "source": [
    "## Your turn! (25 points)\n",
    "\n",
    "We will assume that fertility is a linear function of the female illiteracy rate: `f=ai+b`, where `a` is the slope and `b` is the intercept. \n",
    "\n",
    "We can think of the intercept as the minimal fertility rate, probably somewhere between one and two. \n",
    "\n",
    "The slope tells us how the fertility rate varies with illiteracy. \n",
    "We can find the best fit line .\n",
    "\n",
    "Write code to plot the data and the best fit line (using `np.polyfit()`) and print out the slope and intercept."
   ]
  },
  {
   "cell_type": "markdown",
   "metadata": {
    "colab_type": "text",
    "id": "tdOZPjis7Phf"
   },
   "source": [
    "## Solution"
   ]
  },
  {
   "cell_type": "markdown",
   "metadata": {},
   "source": [
    "Best fit line (a one-degree polynomial)"
   ]
  },
  {
   "cell_type": "code",
   "execution_count": 4,
   "metadata": {
    "colab": {},
    "colab_type": "code",
    "id": "BQkN1WvQOKTi"
   },
   "outputs": [],
   "source": [
    "line = np.polyfit(illiteracy, fertility, 1)\n",
    "slope = line[0]\n",
    "intercept = line[1]"
   ]
  },
  {
   "cell_type": "markdown",
   "metadata": {},
   "source": [
    "Auxiliary function to plot a line, given the slope and the intercept"
   ]
  },
  {
   "cell_type": "code",
   "execution_count": 5,
   "metadata": {},
   "outputs": [],
   "source": [
    "# Adapted from https://stackoverflow.com/a/43811762/336802\n",
    "def abline(ax, slope, intercept):\n",
    "    \"\"\"Plot a line from slope and intercept\"\"\"\n",
    "    x_vals = np.array(ax.get_xlim())\n",
    "    y_vals = intercept + slope * x_vals\n",
    "    ax.plot(x_vals, y_vals, '-')"
   ]
  },
  {
   "cell_type": "markdown",
   "metadata": {},
   "source": [
    "Plot the best fit line and its values"
   ]
  },
  {
   "cell_type": "code",
   "execution_count": 6,
   "metadata": {
    "colab": {},
    "colab_type": "code",
    "id": "BQkN1WvQOKTi"
   },
   "outputs": [
    {
     "data": {
      "image/png": "[encoded data removed]",
      "text/plain": [
       "<Figure size 432x288 with 1 Axes>"
      ]
     },
     "metadata": {},
     "output_type": "display_data"
    },
    {
     "name": "stdout",
     "output_type": "stream",
     "text": [
      "The best fit line has slope 0.05 (children per woman / percent illiteracy) and intercept 1.89 (children per woman)\n"
     ]
    }
   ],
   "source": [
    "# Plot the illiteracy rate versus fertility\n",
    "_ = plt.plot(illiteracy, fertility, marker='.', linestyle='none')\n",
    "\n",
    "# Plot the fit line\n",
    "abline(plt.gca(), slope, intercept)\n",
    "    \n",
    "# Set the margins and label axes\n",
    "plt.margins(0.02)\n",
    "_ = plt.xlabel('% illiterate')\n",
    "_ = plt.ylabel('fertility')\n",
    "\n",
    "plt.show()\n",
    "\n",
    "print('The best fit line has slope {:.2f} '\n",
    "      '(children per woman / percent illiteracy) and intercept {:.2f} '\n",
    "      '(children per woman)'.format(slope, intercept))"
   ]
  },
  {
   "cell_type": "markdown",
   "metadata": {},
   "source": [
    "The interpretation of the slope (for this linear model): for each 1% increase in illiteracy, there is a 0.05 child increase in fertility. Or, for every 20% increase in illiteracy, a woman has one additional child (20 * 1% increase in illiteracy ~ 20 * 0.05 = 1 child).\n",
    "\n",
    "The intercept (also for this linear model) says that this correlation starts at about two children (1.89). We cannot say the same for fewer children than that.\n",
    "\n",
    "IMPORTANT: this is not (necessarily) causation. It is just correlation at this point."
   ]
  },
  {
   "cell_type": "markdown",
   "metadata": {},
   "source": [
    "## BONUS! (15 points)\n",
    "\n",
    "The function `np.polyfit()` that you used above to get your regression parameters finds the optimal slope and intercept. It is optimizing the the _residual sum of squares (RSS)_, also known as the _sum of squared residuals (SSR)_ or the _sum of squared estimate of errors (SSE)_, which can be defined as \"the sum of the squares of residuals (deviations predicted from actual empirical values of data).\" (see https://en.wikipedia.org/wiki/Residual_sum_of_squares)\n",
    "\n",
    "Write code to plot the function that is being optimized, the RSS, versus the slope parameter `a`. To do this, fix the intercept (`b`) to be what you found in the optimization. Then, plot the RSS vs. the slope. Where is it minimal?\n",
    "\n",
    "Your plot will probably look like this:\n",
    "\n",
    "![RSS by slope](notebook_images/slope_rss.png)\n"
   ]
  },
  {
   "cell_type": "markdown",
   "metadata": {
    "colab_type": "text",
    "id": "tdOZPjis7Phf"
   },
   "source": [
    "## Solution"
   ]
  },
  {
   "cell_type": "code",
   "execution_count": 7,
   "metadata": {
    "colab": {},
    "colab_type": "code",
    "id": "BQkN1WvQOKTi"
   },
   "outputs": [
    {
     "data": {
      "image/png": "[encoded data removed]",
      "text/plain": [
       "<Figure size 432x288 with 1 Axes>"
      ]
     },
     "metadata": {},
     "output_type": "display_data"
    }
   ],
   "source": [
    "# Slopes values to try\n",
    "slopes = np.linspace(0, 0.1, 100)\n",
    "\n",
    "# Compute sum of square of residuals for each value of a_vals\n",
    "# This could be done in one step with list comprehension; it's done\n",
    "# in two steps to visualize them: calculate residuals, then square it\n",
    "rss = np.empty_like(slopes)\n",
    "for i, slope in enumerate(slopes):\n",
    "    # Residuals for each point\n",
    "    residuals = fertility - (slope*illiteracy + intercept)\n",
    "    # Square them so positive/negative residuals don't cancel each other out\n",
    "    rss[i] = np.sum(residuals ** 2)\n",
    "\n",
    "plt.plot(slopes, rss)\n",
    "plt.xlabel('slope (children per woman / percent illiterate)')\n",
    "plt.ylabel('sum of square of residuals')\n",
    "\n",
    "plt.show()"
   ]
  },
  {
   "cell_type": "code",
   "execution_count": 8,
   "metadata": {},
   "outputs": [
    {
     "name": "stdout",
     "output_type": "stream",
     "text": [
      "0.049494949494949494\n"
     ]
    }
   ],
   "source": [
    "print(slopes[np.argmin(rss)])"
   ]
  },
  {
   "cell_type": "markdown",
   "metadata": {},
   "source": [
    "-------------------\n",
    "## Part 2: Anscombe's quartet\n",
    "\n",
    "The Anscombe's quartet is a collection of four small data sets that have nearly identical simple descriptive statistics, yet have very different distributions. Each dataset consists of 11 `(x,y)` points. The quartet was created in 1973 by the statistician Francis Anscombe to demonstrate: the importance of visualization and exploratory data analysis (EDA), the effect of outliers and other influential observations on statistical properties, and the limitations of summary statistics (\\*).\n",
    "\n",
    "(\\*) See https://heap.io/blog/data-stories/anscombes-quartet-and-why-summary-statistics-dont-tell-the-whole-story if you're interested.\n",
    "\n",
    "![Anscombes Quartet](notebook_images/anscombe_quartet.png)\n",
    "\n",
    "The Python code below performs a linear regression on the data set from Anscombe's quartet that is most reasonably interpreted with linear regression."
   ]
  },
  {
   "cell_type": "code",
   "execution_count": 9,
   "metadata": {},
   "outputs": [],
   "source": [
    "x1 = [10.0, 8.0,  13.0,  9.0,  11.0, 14.0, 6.0,  4.0,  12.0,  7.0,  5.0]\n",
    "y1 = [8.04, 6.95, 7.58,  8.81, 8.33, 9.96, 7.24, 4.26, 10.84, 4.82, 5.68]\n",
    "\n",
    "x2 = [10.0, 8.0,  13.0,  9.0,  11.0, 14.0, 6.0,  4.0,  12.0,  7.0,  5.0]\n",
    "y2 = [9.14, 8.14, 8.74,  8.77, 9.26, 8.10, 6.13, 3.10, 9.13,  7.26, 4.74]\n",
    "\n",
    "x3 = [10.0, 8.0,  13.0,  9.0,  11.0, 14.0, 6.0,  4.0,  12.0,  7.0,  5.0]\n",
    "y3 = [7.46, 6.77, 12.74, 7.11, 7.81, 8.84, 6.08, 5.39, 8.15,  6.42, 5.73]\n",
    "\n",
    "x4 = [8.0,  8.0,  8.0,   8.0,  8.0,  8.0,  8.0,  19.0,  8.0,  8.0,  8.0]\n",
    "y4 = [6.58, 5.76, 7.71,  8.84, 8.47, 7.04, 5.25, 12.50, 5.56, 7.91, 6.89]"
   ]
  },
  {
   "cell_type": "code",
   "execution_count": 10,
   "metadata": {
    "scrolled": true
   },
   "outputs": [
    {
     "name": "stdout",
     "output_type": "stream",
     "text": [
      "slope = 0.5000909090909096\n",
      "intercept = 3.000090909090909\n"
     ]
    },
    {
     "data": {
      "image/png": "[encoded data removed]",
      "text/plain": [
       "<Figure size 432x288 with 1 Axes>"
      ]
     },
     "metadata": {},
     "output_type": "display_data"
    }
   ],
   "source": [
    "# Perform linear regression: a, b\n",
    "a, b = np.polyfit(x1, y1, 1)\n",
    "\n",
    "# Print the slope and intercept\n",
    "print('slope =', a)\n",
    "print('intercept =', b)\n",
    "\n",
    "# Generate theoretical x and y data: x_theor, y_theor\n",
    "x_theor = np.array([3, 15])\n",
    "y_theor = a * x_theor + b\n",
    "\n",
    "# Plot the Anscombe data and theoretical line\n",
    "_ = plt.plot(x1, y1, marker='.', linestyle='none')\n",
    "_ = plt.plot(x_theor, y_theor)\n",
    "\n",
    "# Label the axes\n",
    "plt.xlabel('x')\n",
    "plt.ylabel('y')\n",
    "\n",
    "# Show the plot\n",
    "plt.show()"
   ]
  },
  {
   "cell_type": "markdown",
   "metadata": {},
   "source": [
    "## Your turn! (25 points)\n",
    "\n",
    "### Linear regression on all Anscombe data\n",
    "\n",
    "Write code to verify that all four of the Anscombe data sets have the same slope and intercept from a linear regression, i.e. compute the slope and intercept for each set. \n",
    "\n",
    "The data are stored in lists (`anscombe_x = [x1, x2, x3, x4]` and `anscombe_y = [y1, y2, y3, y4]`), corresponding to the $x$ and $y$ values for each Anscombe data set."
   ]
  },
  {
   "cell_type": "markdown",
   "metadata": {
    "colab_type": "text",
    "id": "tdOZPjis7Phf"
   },
   "source": [
    "## Solution"
   ]
  },
  {
   "cell_type": "code",
   "execution_count": 11,
   "metadata": {
    "colab": {},
    "colab_type": "code",
    "id": "BQkN1WvQOKTi"
   },
   "outputs": [],
   "source": [
    "anscombe_x = [x1, x2, x3, x4]\n",
    "anscombe_y = [y1, y2, y3, y4]"
   ]
  },
  {
   "cell_type": "code",
   "execution_count": 12,
   "metadata": {
    "colab": {},
    "colab_type": "code",
    "id": "BQkN1WvQOKTi"
   },
   "outputs": [
    {
     "name": "stdout",
     "output_type": "stream",
     "text": [
      "Anscombe 1: slope=0.50009, intercept=3.00009\n",
      "Anscombe 2: slope=0.50000, intercept=3.00091\n",
      "Anscombe 3: slope=0.49973, intercept=3.00245\n",
      "Anscombe 4: slope=0.49991, intercept=3.00173\n",
      "The Anscombe's quartets have the same slope and intercept: True\n"
     ]
    }
   ],
   "source": [
    "# Fit all quartets\n",
    "fit_lines =[np.polyfit(x, y, 1) for x, y in zip(anscombe_x, anscombe_y)]\n",
    "\n",
    "# Show the slope and intercept for each one\n",
    "for i, line in enumerate(fit_lines, start=1):\n",
    "    print('Anscombe {}: slope={:.5f}, intercept={:.5f}'.format(\n",
    "        i, line[0], line[1]))\n",
    "\n",
    "# Check if they have the same slope and intercept, to a reasonable precision\n",
    "# Compare them against the expect slope/intercept of the Anscombe's quartet\n",
    "allclose = np.allclose(fit_lines,\n",
    "                       list([[0.5, 3.0]] * len(anscombe_x)), rtol=1e-03)\n",
    "\n",
    "print('The Anscombe\\'s quartets have the same slope and intercept: {}'.\\\n",
    "      format(allclose))"
   ]
  },
  {
   "cell_type": "markdown",
   "metadata": {},
   "source": [
    "-------------------\n",
    "## Part 3: Regression using scikit-learn\n",
    "\n",
    "Now that we know the basics of linear regression, we will switch to scikit-learn, a powerful, workflow-oriented library for data science and machine learning.\n",
    "\n",
    "The Python code below shows a simple linear regression example using scikit-learn. Note the use of the `fit()` and `predict()` methods."
   ]
  },
  {
   "cell_type": "code",
   "execution_count": 13,
   "metadata": {},
   "outputs": [
    {
     "name": "stdout",
     "output_type": "stream",
     "text": [
      "[2.9776566]\n",
      "-1.9033107255311172\n"
     ]
    },
    {
     "data": {
      "image/png": "[encoded data removed]",
      "text/plain": [
       "<Figure size 432x288 with 1 Axes>"
      ]
     },
     "metadata": {},
     "output_type": "display_data"
    }
   ],
   "source": [
    "import matplotlib.pyplot as plt\n",
    "import numpy as np\n",
    "\n",
    "# Generate random data around the y = ax+b line where a=3 and b=-2\n",
    "rng = np.random.RandomState(42)\n",
    "x = 10 * rng.rand(50)\n",
    "y = 3 * x - 2 + rng.randn(50)\n",
    "\n",
    "from sklearn.linear_model import LinearRegression\n",
    "\n",
    "# Note: If you get a \"ModuleNotFoundError: No module named 'sklearn'\" error message, don't panic.\n",
    "# It probably means you'll have to install the module by hand if you're using pip. \n",
    "# If you're using conda, you should not see any error message.\n",
    "\n",
    "model = LinearRegression(fit_intercept=True)\n",
    "\n",
    "X = x[:, np.newaxis]\n",
    "X.shape\n",
    "\n",
    "model.fit(X, y)\n",
    "print(model.coef_)\n",
    "print(model.intercept_)\n",
    "\n",
    "xfit = np.linspace(-1, 11)\n",
    "Xfit = xfit[:, np.newaxis]\n",
    "yfit = model.predict(Xfit)\n",
    "\n",
    "plt.scatter(x, y)\n",
    "plt.plot(xfit, yfit);"
   ]
  },
  {
   "cell_type": "markdown",
   "metadata": {},
   "source": [
    "## Polynomial regression\n",
    "\n",
    "One way to adapt linear regression to nonlinear relationships between variables is to transform the data according to *basis functions*.\n",
    "\n",
    "The idea is to take the multidimensional linear model:\n",
    "$$\n",
    "y = a_0 + a_1 x_1 + a_2 x_2 + a_3 x_3 + \\cdots\n",
    "$$\n",
    "and build the $x_1, x_2, x_3,$ and so on, from our single-dimensional input $x$.\n",
    "That is, we let $x_n = f_n(x)$, where $f_n()$ is some function that transforms our data.\n",
    "\n",
    "For example, if $f_n(x) = x^n$, our model becomes a polynomial regression:\n",
    "$$\n",
    "y = a_0 + a_1 x + a_2 x^2 + a_3 x^3 + \\cdots\n",
    "$$\n",
    "Notice that this is *still a linear model*—the linearity refers to the fact that the coefficients $a_n$ never multiply or divide each other.\n",
    "What we have effectively done is taken our one-dimensional $x$ values and projected them into a higher dimension, so that a linear fit can fit more complicated relationships between $x$ and $y$.\n",
    "\n",
    "The code below shows a simple example of polynomial regression using the ``PolynomialFeatures`` transformer in scikit-learn. Concretely, it shows how we can use polynomial features with a polynomial of degree seven, i.e. $$y = a_0 + a_1 x + a_2 x^2 + a_3 x^3 + \\cdots + a_7 x^7$$ \n",
    "\n",
    "It also introduces the notion of a *pipeline* in scikit-learn. \"The purpose of the pipeline is to assemble several steps that can be cross-validated together while setting different parameters.\" (https://scikit-learn.org/stable/modules/generated/sklearn.pipeline.Pipeline.html) "
   ]
  },
  {
   "cell_type": "code",
   "execution_count": 14,
   "metadata": {},
   "outputs": [
    {
     "name": "stdout",
     "output_type": "stream",
     "text": [
      "The R^2 score for the fit is:  0.9806993128749495\n"
     ]
    },
    {
     "data": {
      "image/png": "[encoded data removed]",
      "text/plain": [
       "<Figure size 432x288 with 1 Axes>"
      ]
     },
     "metadata": {},
     "output_type": "display_data"
    }
   ],
   "source": [
    "from sklearn.preprocessing import PolynomialFeatures\n",
    "from sklearn.pipeline import make_pipeline\n",
    "poly_model = make_pipeline(PolynomialFeatures(7),\n",
    "                           LinearRegression())\n",
    "\n",
    "rng = np.random.RandomState(1)\n",
    "x = 10 * rng.rand(100)\n",
    "y = np.sin(x) + 0.1 * rng.randn(100)\n",
    "\n",
    "poly_model.fit(x[:, np.newaxis], y)\n",
    "yfit = poly_model.predict(xfit[:, np.newaxis])\n",
    "plt.scatter(x, y)\n",
    "plt.plot(xfit, yfit);\n",
    "\n",
    "print('The R^2 score for the fit is: ', poly_model.score(x[:, np.newaxis], y))"
   ]
  },
  {
   "cell_type": "markdown",
   "metadata": {},
   "source": [
    "Our linear model, through the use of 7th-order polynomial basis functions, can provide an excellent fit to this non-linear data!"
   ]
  },
  {
   "cell_type": "markdown",
   "metadata": {
    "colab_type": "text",
    "id": "QtjTzR09-PyS"
   },
   "source": [
    "## Questions 1-3 (12 points, i.e. 4 pts each)\n",
    "\n",
    "1. Which mathematical function was used to simulate the data points (with a bit of random noise around them)? \n",
    "2. Which degree/order was used for the polynomial basis functions?\n",
    "3. How good was the linear model fit to the non-linear data?\n"
   ]
  },
  {
   "cell_type": "markdown",
   "metadata": {
    "colab_type": "text",
    "id": "RRG5lAHB-PyV"
   },
   "source": [
    "## Solution"
   ]
  },
  {
   "cell_type": "markdown",
   "metadata": {
    "colab_type": "text",
    "id": "YxJNmDgn-PyW"
   },
   "source": [
    "### 1. Which mathematical function was used to simulate the data points (with a bit of random noise around them)?"
   ]
  },
  {
   "cell_type": "markdown",
   "metadata": {},
   "source": [
    "`numpy.sin()` was used to simulate the data points (with added noise):\n",
    "\n",
    "`y = np.sin(x) + 0.1 * rng.randn(100)`"
   ]
  },
  {
   "cell_type": "markdown",
   "metadata": {},
   "source": [
    "### 2. Which degree/order was used for the polynomial basis functions?"
   ]
  },
  {
   "cell_type": "markdown",
   "metadata": {},
   "source": [
    "A polynomial of order seven:\n",
    "    \n",
    "`poly_model = make_pipeline(PolynomialFeatures(7),`"
   ]
  },
  {
   "cell_type": "markdown",
   "metadata": {},
   "source": [
    "### 3. How good was the linear model fit to the non-linear data?"
   ]
  },
  {
   "cell_type": "markdown",
   "metadata": {},
   "source": [
    "The $R^2$ score of 0.98 fits the model almost perfectly (given that \"[An $R^2$ of 1 indicates that the regression predictions perfectly fit the data](https://en.wikipedia.org/wiki/Coefficient_of_determination#Interpretation)\")"
   ]
  },
  {
   "cell_type": "markdown",
   "metadata": {},
   "source": [
    "## Your turn (18 points)\n",
    "\n",
    "Write code to find the best degree/order for the polynomial basis functions (between 1 and 15) by computing the quality of the fit using a suitable metric, in this case the $R^2$ coefficient (which can be computer using the `score()` function). \n",
    "\n",
    "Remember that **the best possible score is 1.0**. The score can be negative (because the model can be arbitrarily worse). A score of 0 suggests a constant model that always predicts the expected value of y, disregarding the input features.\n",
    "\n",
    "Hint: If you plot the score against the degree/order of the polynomial, you should see something like this:\n",
    "\n",
    "![R squared coefficient](notebook_images/r2_coefficient.png)"
   ]
  },
  {
   "cell_type": "markdown",
   "metadata": {
    "colab_type": "text",
    "id": "tdOZPjis7Phf"
   },
   "source": [
    "## Solution"
   ]
  },
  {
   "cell_type": "markdown",
   "metadata": {},
   "source": [
    "Rebuild the samples because `x` and `y` are commonly used in cells. They could have been inadvertently overwritten above."
   ]
  },
  {
   "cell_type": "code",
   "execution_count": 15,
   "metadata": {
    "colab": {},
    "colab_type": "code",
    "id": "BQkN1WvQOKTi"
   },
   "outputs": [],
   "source": [
    "rng = np.random.RandomState(1)\n",
    "x = 10 * rng.rand(100)\n",
    "y = np.sin(x) + 0.1 * rng.randn(100)"
   ]
  },
  {
   "cell_type": "markdown",
   "metadata": {},
   "source": [
    "Test different orders/degrees and plot them."
   ]
  },
  {
   "cell_type": "code",
   "execution_count": 16,
   "metadata": {
    "colab": {},
    "colab_type": "code",
    "id": "BQkN1WvQOKTi"
   },
   "outputs": [
    {
     "data": {
      "image/png": "[encoded data removed]",
      "text/plain": [
       "<Figure size 432x288 with 1 Axes>"
      ]
     },
     "metadata": {},
     "output_type": "display_data"
    }
   ],
   "source": [
    "def r2_score(order):\n",
    "    '''Fit a linear regression model and return its R^2 score.'''\n",
    "    poly_model = make_pipeline(PolynomialFeatures(order),\n",
    "                               LinearRegression())\n",
    "    poly_model.fit(x[:, np.newaxis], y)\n",
    "    return poly_model.score(x[:, np.newaxis], y)\n",
    "\n",
    "# Start at zero so the degree matches the index in the array\n",
    "# Simplifies the code and avoid silly mistakes later\n",
    "scores = [r2_score(degree) for degree in range(0, 16)]\n",
    "plt.plot(scores)\n",
    "plt.ylabel('$R^2$ score')\n",
    "plt.xlabel('Polynomial degree')\n",
    "plt.show()"
   ]
  },
  {
   "cell_type": "markdown",
   "metadata": {
    "colab_type": "text",
    "id": "QtjTzR09-PyS"
   },
   "source": [
    "## Questions 4-6 (12 points, i.e. 4 pts each)\n",
    "\n",
    "4. Which degree/order polynomial produced the best fit (i.e., highest $R^2$ score)? \n",
    "5. Would you consider using the resulting polynomial as your model? Why (not)?\n",
    "6. If you answered 'no' to question 5 (as you should!), which degree would you choose for your polynomial regression model?\n"
   ]
  },
  {
   "cell_type": "markdown",
   "metadata": {
    "colab_type": "text",
    "id": "RRG5lAHB-PyV"
   },
   "source": [
    "## Solution"
   ]
  },
  {
   "cell_type": "markdown",
   "metadata": {
    "colab_type": "text",
    "id": "YxJNmDgn-PyW"
   },
   "source": [
    "### 4. Which degree/order polynomial produced the best fit (i.e., highest  𝑅2  score)?"
   ]
  },
  {
   "cell_type": "code",
   "execution_count": 17,
   "metadata": {},
   "outputs": [
    {
     "name": "stdout",
     "output_type": "stream",
     "text": [
      "Max R^2 score: 0.98194, for degree 13\n"
     ]
    }
   ],
   "source": [
    "print('Max R^2 score: {:.5f}, for degree {}'.format(\n",
    "    np.max(scores), np.argmax(scores)))"
   ]
  },
  {
   "cell_type": "markdown",
   "metadata": {},
   "source": [
    "### 5. Would you consider using the resulting polynomial as your model? Why (not)?"
   ]
  },
  {
   "cell_type": "markdown",
   "metadata": {},
   "source": [
    "No, because that polynomial is overfitting the sample data. It would likely perform poorly on unseen data."
   ]
  },
  {
   "cell_type": "markdown",
   "metadata": {},
   "source": [
    "### 6. If you answered 'no' to question 5 (as you should!), which degree would you choose for your polynomial regression model?"
   ]
  },
  {
   "cell_type": "markdown",
   "metadata": {},
   "source": [
    "I would choose the polynomial of degree six because it is the lowest degree that captures most of the precision of the highest $R^2$ score polynomial (degree 13) found in the tests.\n",
    "\n",
    "This is visible in the flattening of the line in the graph above when we reach the sixth degree, and analytically in the table below."
   ]
  },
  {
   "cell_type": "code",
   "execution_count": 18,
   "metadata": {},
   "outputs": [
    {
     "name": "stdout",
     "output_type": "stream",
     "text": [
      "Degree:  0: score=0.00000, percent of max R^2 score=0.00000\n",
      "Degree:  1: score=0.01217, percent of max R^2 score=0.01240\n",
      "Degree:  2: score=0.20041, percent of max R^2 score=0.20410\n",
      "Degree:  3: score=0.24010, percent of max R^2 score=0.24452\n",
      "Degree:  4: score=0.90109, percent of max R^2 score=0.91767\n",
      "Degree:  5: score=0.91790, percent of max R^2 score=0.93478\n",
      "Degree:  6: score=0.98035, percent of max R^2 score=0.99838\n",
      "Degree:  7: score=0.98070, percent of max R^2 score=0.99873\n",
      "Degree:  8: score=0.98154, percent of max R^2 score=0.99959\n",
      "Degree:  9: score=0.98156, percent of max R^2 score=0.99961\n",
      "Degree: 10: score=0.98176, percent of max R^2 score=0.99981\n",
      "Degree: 11: score=0.98176, percent of max R^2 score=0.99981\n",
      "Degree: 12: score=0.98176, percent of max R^2 score=0.99982\n",
      "Degree: 13: score=0.98194, percent of max R^2 score=1.00000\n",
      "Degree: 14: score=0.98177, percent of max R^2 score=0.99982\n",
      "Degree: 15: score=0.98080, percent of max R^2 score=0.99884\n"
     ]
    }
   ],
   "source": [
    "max_r2_score = np.max(scores)\n",
    "for i, score in enumerate(scores):\n",
    "    print('Degree: {:2d}: score={:.5f}, percent of max R^2 score={:.5f}'. \\\n",
    "          format(i, score, score/max_r2_score))"
   ]
  },
  {
   "cell_type": "markdown",
   "metadata": {},
   "source": [
    "## Part 4: Regularization\n",
    "\n",
    "The use of polynomial regression with high-order polynomials can very quickly lead to over-fitting. In this part, we will look into the use of regularization to address potential overfitting.\n",
    "\n",
    "The code below shows an attempt to fit a 15th degree polynomial to a sinusoidal shaped data. The fit is excellent ($R^2$ > 0.98), but might raise suspicions that it will lead to overfitting."
   ]
  },
  {
   "cell_type": "code",
   "execution_count": 19,
   "metadata": {},
   "outputs": [
    {
     "name": "stdout",
     "output_type": "stream",
     "text": [
      "0.980804007046897\n"
     ]
    },
    {
     "data": {
      "image/png": "[encoded data removed]",
      "text/plain": [
       "<Figure size 432x288 with 1 Axes>"
      ]
     },
     "metadata": {},
     "output_type": "display_data"
    }
   ],
   "source": [
    "model = make_pipeline(PolynomialFeatures(15),\n",
    "                      LinearRegression())\n",
    "model.fit(x[:, np.newaxis], y)\n",
    "\n",
    "plt.scatter(x, y)\n",
    "plt.plot(xfit, model.predict(xfit[:, np.newaxis]))\n",
    "\n",
    "plt.xlim(0, 10)\n",
    "plt.ylim(-1.5, 1.5);\n",
    "\n",
    "score = model.score(x[:, np.newaxis], y)\n",
    "print(score)"
   ]
  },
  {
   "cell_type": "markdown",
   "metadata": {},
   "source": [
    "## Your turn! (10 points)\n",
    "\n",
    "Write Python code to perform Ridge regression ($L_2$ Regularization), plot the resulting fit, and compute the $R^2$ score.\n",
    "\n",
    "Hints: \n",
    "1. This type of penalized model is built into Scikit-Learn with the ``Ridge`` estimator. \n",
    "2. In the beginning, use all default values for its parameters.\n",
    "3. After you get your code to work, spend some time trying to fine-tune the model, i.e., experimenting with the regularization parameters."
   ]
  },
  {
   "cell_type": "markdown",
   "metadata": {
    "colab_type": "text",
    "id": "tdOZPjis7Phf"
   },
   "source": [
    "## Solution"
   ]
  },
  {
   "cell_type": "markdown",
   "metadata": {},
   "source": [
    "An auxiliary function to apply a polynomial features transformation, followed by the given classifier, then test and plot the results."
   ]
  },
  {
   "cell_type": "code",
   "execution_count": 20,
   "metadata": {
    "colab": {},
    "colab_type": "code",
    "id": "BQkN1WvQOKTi"
   },
   "outputs": [],
   "source": [
    "def test_classifier(clf):\n",
    "\n",
    "    # Rebuild the training dataset because we cannot guarantee it\n",
    "    # hasn't been changed between runs\n",
    "    rng = np.random.RandomState(1)\n",
    "    x = 10 * rng.rand(100)\n",
    "    y = np.sin(x) + 0.1 * rng.randn(100)\n",
    "    \n",
    "    # Also rebuild the test dataset\n",
    "    x_test = np.linspace(-1, 11)\n",
    "\n",
    "    # sklearn expects 2D arrays for features\n",
    "    X = x[:, np.newaxis]\n",
    "    X_test = x_test[:, np.newaxis]\n",
    "\n",
    "    # Create a two-stage pipeline:\n",
    "    #  Stage 1: feature transformation to add non-linear features\n",
    "    #  Stage 2: the classifier (that will work on the tranformed data)\n",
    "    model = make_pipeline(PolynomialFeatures(15),\n",
    "                          clf)\n",
    "\n",
    "    # Run the pipeline to transform/fit the training data\n",
    "    model.fit(X, y)\n",
    "\n",
    "    # Predict some sample data with the trained model\n",
    "    pred = model.predict(X_test)\n",
    "\n",
    "    # Plot the training data and the predicted data\n",
    "    plt.scatter(x, y, label='Training data')\n",
    "    plt.plot(x_test, pred, label='Predicted data')\n",
    "    plt.legend()\n",
    "\n",
    "    # Limit graph to the range of the training data\n",
    "    plt.xlim(0, 10)\n",
    "    plt.ylim(-1.5, 1.5);\n",
    "\n",
    "    score = model.score(X, y)\n",
    "    print(score)\n",
    "    \n",
    "    return model"
   ]
  },
  {
   "cell_type": "markdown",
   "metadata": {},
   "source": [
    "### Using default values"
   ]
  },
  {
   "cell_type": "code",
   "execution_count": 21,
   "metadata": {
    "colab": {},
    "colab_type": "code",
    "id": "BQkN1WvQOKTi"
   },
   "outputs": [
    {
     "name": "stdout",
     "output_type": "stream",
     "text": [
      "0.9788417233652816\n"
     ]
    },
    {
     "data": {
      "image/png": "[encoded data removed]",
      "text/plain": [
       "<Figure size 432x288 with 1 Axes>"
      ]
     },
     "metadata": {},
     "output_type": "display_data"
    }
   ],
   "source": [
    "from sklearn.linear_model import Ridge\n",
    "\n",
    "test_classifier(Ridge(random_state=42));"
   ]
  },
  {
   "cell_type": "markdown",
   "metadata": {},
   "source": [
    "### Fine tunning parameters"
   ]
  },
  {
   "cell_type": "markdown",
   "metadata": {},
   "source": [
    "Ridge uses the `alpha` parameter to control the regularization strength. From the [scikit-learn documentation](https://scikit-learn.org/stable/modules/generated/sklearn.linear_model.Ridge.html):\n",
    "\n",
    "> Regularization improves the conditioning of the problem and reduces the variance of the estimates. Larger values specify stronger regularization.\n",
    "\n",
    "Therefore, \"_fine tunning_\" for ridge means _\"choose a good alpha value_\".\n",
    "\n",
    "Scikit-learn provides a [`RidgeCV()`](https://scikit-learn.org/stable/modules/generated/sklearn.linear_model.RidgeCV.html) class that chooses the best value for `alpha`, given a list to test against.\n",
    "\n",
    "The code below makes use of `RidgeCV()` to pick a value, then plots and scores the model. As a last step, it also shows what alpha value was chosen."
   ]
  },
  {
   "cell_type": "code",
   "execution_count": 22,
   "metadata": {},
   "outputs": [
    {
     "name": "stdout",
     "output_type": "stream",
     "text": [
      "0.9811706257189982\n"
     ]
    },
    {
     "data": {
      "image/png": "[encoded data removed]",
      "text/plain": [
       "<Figure size 432x288 with 1 Axes>"
      ]
     },
     "metadata": {},
     "output_type": "display_data"
    }
   ],
   "source": [
    "from sklearn.linear_model import RidgeCV\n",
    "\n",
    "# Note: we need to use an integer value for `cv` - we get a really\n",
    "# bad-performing classifier with the default value for `cv`\n",
    "model = test_classifier(RidgeCV([0.05, 0.1, 0.2, 0.3, 0.5], cv=2))"
   ]
  },
  {
   "cell_type": "markdown",
   "metadata": {},
   "source": [
    "The `alpha` value chosen by `RidgeCV()` (compare with the default value of 1.0, used by `Ridge()` at the time this was written):"
   ]
  },
  {
   "cell_type": "code",
   "execution_count": 23,
   "metadata": {},
   "outputs": [
    {
     "name": "stdout",
     "output_type": "stream",
     "text": [
      "0.1\n"
     ]
    }
   ],
   "source": [
    "print(model[1].alpha_)"
   ]
  },
  {
   "cell_type": "markdown",
   "metadata": {},
   "source": [
    "## Your turn! (10 points)\n",
    "\n",
    "Write Python code to perform Lasso regression ($L_1$ Regularization), plot the resulting fit, and compute the $R^2$ score.\n",
    "\n",
    "Hints: \n",
    "1. This type of penalized model is built into Scikit-Learn with the ``Lasso`` estimator. \n",
    "2. In the beginning, use `Lasso(alpha=0.1, tol=0.2)`\n",
    "3. After you get your code to work, spend some time trying to fine-tune the model, i.e., experimenting with the regularization parameters."
   ]
  },
  {
   "cell_type": "markdown",
   "metadata": {
    "colab_type": "text",
    "id": "tdOZPjis7Phf"
   },
   "source": [
    "## Solution"
   ]
  },
  {
   "cell_type": "markdown",
   "metadata": {
    "colab": {},
    "colab_type": "code",
    "id": "BQkN1WvQOKTi"
   },
   "source": [
    "### Using default values"
   ]
  },
  {
   "cell_type": "code",
   "execution_count": 24,
   "metadata": {},
   "outputs": [
    {
     "name": "stdout",
     "output_type": "stream",
     "text": [
      "0.6754347956467592\n"
     ]
    },
    {
     "data": {
      "image/png": "[encoded data removed]",
      "text/plain": [
       "<Figure size 432x288 with 1 Axes>"
      ]
     },
     "metadata": {},
     "output_type": "display_data"
    }
   ],
   "source": [
    "from sklearn.linear_model import Lasso\n",
    "\n",
    "test_classifier(Lasso(alpha=0.1, tol=0.2));"
   ]
  },
  {
   "cell_type": "markdown",
   "metadata": {},
   "source": [
    "### Fine tunning parameters"
   ]
  },
  {
   "cell_type": "markdown",
   "metadata": {},
   "source": [
    "Like the Ridge classifier, the main tunning parameter for the Lasso classifier is the `alpha` parameter.\n",
    "\n",
    "Also like the `Ridge()` implementation, there is a `LassoCV()` that accepts an array of `alpha` values to test.\n",
    "\n",
    "However, to get the Lasso classifier to score above 0.8, it was also needed to reduce `tol`, which in turn caused the classifier to complain that it was not convering, which resulted in increasing `max_iter`.\n",
    "\n",
    "A few more experiments got the classifier above 0.9, but only at the cost of increasing `max_iter` by an order of magnitude or more."
   ]
  },
  {
   "cell_type": "code",
   "execution_count": 25,
   "metadata": {},
   "outputs": [
    {
     "name": "stdout",
     "output_type": "stream",
     "text": [
      "0.8335589733826649\n"
     ]
    },
    {
     "data": {
      "image/png": "[encoded data removed]",
      "text/plain": [
       "<Figure size 432x288 with 1 Axes>"
      ]
     },
     "metadata": {},
     "output_type": "display_data"
    }
   ],
   "source": [
    "from sklearn.linear_model import LassoCV\n",
    "\n",
    "model = test_classifier(LassoCV(alphas=[0.01, 0.05, 0.1, 0.5],\n",
    "                                tol=0.1, cv=5, max_iter=1_000_000));"
   ]
  },
  {
   "cell_type": "markdown",
   "metadata": {},
   "source": [
    "The `alpha` chosen by `LassoCV()`:"
   ]
  },
  {
   "cell_type": "code",
   "execution_count": 26,
   "metadata": {},
   "outputs": [
    {
     "name": "stdout",
     "output_type": "stream",
     "text": [
      "0.01\n"
     ]
    }
   ],
   "source": [
    "print(model[1].alpha_)"
   ]
  },
  {
   "cell_type": "markdown",
   "metadata": {
    "colab_type": "text",
    "id": "QtjTzR09-PyS"
   },
   "source": [
    "## Question 7 (4 points)\n",
    "\n",
    "7. Which of the two regularization approaches produced a better fit (and was also the easiest to fine-tune)?\n"
   ]
  },
  {
   "cell_type": "markdown",
   "metadata": {},
   "source": [
    "The Ridge regularization was the easiest one. With only a few tries of different `alpha` values it was able to achieve an $R^2$ score of 0.98. The Lasso regularization, on the other hand, required changes to more parameters (e.g. `tol` and `max_iter`) just to get a score above 0.8.\n",
    "\n",
    "However, Lasso is able to drive coeffiecients down to zero, while Ridge cannot. If it is important to identify what features are relevant for prediction and fast computation (fewer coefficients), the time invested in finding a well-performing Lasso classifier may be justifiable. ([source 1](https://stats.stackexchange.com/a/876) and [source 2](https://www.datacamp.com/community/tutorials/tutorial-ridge-lasso-elastic-net))."
   ]
  },
  {
   "cell_type": "markdown",
   "metadata": {},
   "source": [
    "## Bonus! (30 points)\n",
    "\n",
    "The Boston housing dataset is a classic dataset used in linear regression examples.\n",
    "(See https://scikit-learn.org/stable/datasets/index.html#boston-dataset for more)\n",
    "\n",
    "The Python code below:\n",
    "- Loads the Boston dataset (using scikit-learn's `load_boston()`) and converts it into a Pandas dataframe\n",
    "- Selects two features to be used for fitting a model that will then be used to make predictions: LSTAT (% lower status of the population) and RM (average number of rooms per dwelling) (\\*)\n",
    "- Splits the data into train and test sets\n",
    "\n",
    "(\\*) See https://towardsdatascience.com/linear-regression-on-boston-housing-dataset-f409b7e4a155 for details."
   ]
  },
  {
   "cell_type": "markdown",
   "metadata": {},
   "source": [
    "**NOTE**: This code generates a warning that the Boston housing prices dataset has flaws. Refer to the [scikit-learn documentation](https://scikit-learn.org/stable/modules/generated/sklearn.datasets.load_boston.html) for details. Future versions of this notebook should replace the dataset with one of the datasets recommended by scikit-learn."
   ]
  },
  {
   "cell_type": "code",
   "execution_count": 27,
   "metadata": {},
   "outputs": [
    {
     "name": "stderr",
     "output_type": "stream",
     "text": [
      "/Users/cgarbin/projects/cap5768-introduction-to-data-science/env/lib/python3.10/site-packages/sklearn/utils/deprecation.py:87: FutureWarning: Function load_boston is deprecated; `load_boston` is deprecated in 1.0 and will be removed in 1.2.\n",
      "\n",
      "    The Boston housing prices dataset has an ethical problem. You can refer to\n",
      "    the documentation of this function for further details.\n",
      "\n",
      "    The scikit-learn maintainers therefore strongly discourage the use of this\n",
      "    dataset unless the purpose of the code is to study and educate about\n",
      "    ethical issues in data science and machine learning.\n",
      "\n",
      "    In this special case, you can fetch the dataset from the original\n",
      "    source::\n",
      "\n",
      "        import pandas as pd\n",
      "        import numpy as np\n",
      "\n",
      "\n",
      "        data_url = \"http://lib.stat.cmu.edu/datasets/boston\"\n",
      "        raw_df = pd.read_csv(data_url, sep=\"\\s+\", skiprows=22, header=None)\n",
      "        data = np.hstack([raw_df.values[::2, :], raw_df.values[1::2, :2]])\n",
      "        target = raw_df.values[1::2, 2]\n",
      "\n",
      "    Alternative datasets include the California housing dataset (i.e.\n",
      "    :func:`~sklearn.datasets.fetch_california_housing`) and the Ames housing\n",
      "    dataset. You can load the datasets as follows::\n",
      "\n",
      "        from sklearn.datasets import fetch_california_housing\n",
      "        housing = fetch_california_housing()\n",
      "\n",
      "    for the California housing dataset and::\n",
      "\n",
      "        from sklearn.datasets import fetch_openml\n",
      "        housing = fetch_openml(name=\"house_prices\", as_frame=True)\n",
      "\n",
      "    for the Ames housing dataset.\n",
      "    \n",
      "  warnings.warn(msg, category=FutureWarning)\n"
     ]
    },
    {
     "data": {
      "text/html": [
       "<div>\n",
       "<style scoped>\n",
       "    .dataframe tbody tr th:only-of-type {\n",
       "        vertical-align: middle;\n",
       "    }\n",
       "\n",
       "    .dataframe tbody tr th {\n",
       "        vertical-align: top;\n",
       "    }\n",
       "\n",
       "    .dataframe thead th {\n",
       "        text-align: right;\n",
       "    }\n",
       "</style>\n",
       "<table border=\"1\" class=\"dataframe\">\n",
       "  <thead>\n",
       "    <tr style=\"text-align: right;\">\n",
       "      <th></th>\n",
       "      <th>CRIM</th>\n",
       "      <th>ZN</th>\n",
       "      <th>INDUS</th>\n",
       "      <th>CHAS</th>\n",
       "      <th>NOX</th>\n",
       "      <th>RM</th>\n",
       "      <th>AGE</th>\n",
       "      <th>DIS</th>\n",
       "      <th>RAD</th>\n",
       "      <th>TAX</th>\n",
       "      <th>PTRATIO</th>\n",
       "      <th>B</th>\n",
       "      <th>LSTAT</th>\n",
       "    </tr>\n",
       "  </thead>\n",
       "  <tbody>\n",
       "    <tr>\n",
       "      <th>0</th>\n",
       "      <td>0.00632</td>\n",
       "      <td>18.0</td>\n",
       "      <td>2.31</td>\n",
       "      <td>0.0</td>\n",
       "      <td>0.538</td>\n",
       "      <td>6.575</td>\n",
       "      <td>65.2</td>\n",
       "      <td>4.0900</td>\n",
       "      <td>1.0</td>\n",
       "      <td>296.0</td>\n",
       "      <td>15.3</td>\n",
       "      <td>396.90</td>\n",
       "      <td>4.98</td>\n",
       "    </tr>\n",
       "    <tr>\n",
       "      <th>1</th>\n",
       "      <td>0.02731</td>\n",
       "      <td>0.0</td>\n",
       "      <td>7.07</td>\n",
       "      <td>0.0</td>\n",
       "      <td>0.469</td>\n",
       "      <td>6.421</td>\n",
       "      <td>78.9</td>\n",
       "      <td>4.9671</td>\n",
       "      <td>2.0</td>\n",
       "      <td>242.0</td>\n",
       "      <td>17.8</td>\n",
       "      <td>396.90</td>\n",
       "      <td>9.14</td>\n",
       "    </tr>\n",
       "    <tr>\n",
       "      <th>2</th>\n",
       "      <td>0.02729</td>\n",
       "      <td>0.0</td>\n",
       "      <td>7.07</td>\n",
       "      <td>0.0</td>\n",
       "      <td>0.469</td>\n",
       "      <td>7.185</td>\n",
       "      <td>61.1</td>\n",
       "      <td>4.9671</td>\n",
       "      <td>2.0</td>\n",
       "      <td>242.0</td>\n",
       "      <td>17.8</td>\n",
       "      <td>392.83</td>\n",
       "      <td>4.03</td>\n",
       "    </tr>\n",
       "    <tr>\n",
       "      <th>3</th>\n",
       "      <td>0.03237</td>\n",
       "      <td>0.0</td>\n",
       "      <td>2.18</td>\n",
       "      <td>0.0</td>\n",
       "      <td>0.458</td>\n",
       "      <td>6.998</td>\n",
       "      <td>45.8</td>\n",
       "      <td>6.0622</td>\n",
       "      <td>3.0</td>\n",
       "      <td>222.0</td>\n",
       "      <td>18.7</td>\n",
       "      <td>394.63</td>\n",
       "      <td>2.94</td>\n",
       "    </tr>\n",
       "    <tr>\n",
       "      <th>4</th>\n",
       "      <td>0.06905</td>\n",
       "      <td>0.0</td>\n",
       "      <td>2.18</td>\n",
       "      <td>0.0</td>\n",
       "      <td>0.458</td>\n",
       "      <td>7.147</td>\n",
       "      <td>54.2</td>\n",
       "      <td>6.0622</td>\n",
       "      <td>3.0</td>\n",
       "      <td>222.0</td>\n",
       "      <td>18.7</td>\n",
       "      <td>396.90</td>\n",
       "      <td>5.33</td>\n",
       "    </tr>\n",
       "  </tbody>\n",
       "</table>\n",
       "</div>"
      ],
      "text/plain": [
       "      CRIM    ZN  INDUS  CHAS    NOX     RM   AGE     DIS  RAD    TAX  \\\n",
       "0  0.00632  18.0   2.31   0.0  0.538  6.575  65.2  4.0900  1.0  296.0   \n",
       "1  0.02731   0.0   7.07   0.0  0.469  6.421  78.9  4.9671  2.0  242.0   \n",
       "2  0.02729   0.0   7.07   0.0  0.469  7.185  61.1  4.9671  2.0  242.0   \n",
       "3  0.03237   0.0   2.18   0.0  0.458  6.998  45.8  6.0622  3.0  222.0   \n",
       "4  0.06905   0.0   2.18   0.0  0.458  7.147  54.2  6.0622  3.0  222.0   \n",
       "\n",
       "   PTRATIO       B  LSTAT  \n",
       "0     15.3  396.90   4.98  \n",
       "1     17.8  396.90   9.14  \n",
       "2     17.8  392.83   4.03  \n",
       "3     18.7  394.63   2.94  \n",
       "4     18.7  396.90   5.33  "
      ]
     },
     "execution_count": 27,
     "metadata": {},
     "output_type": "execute_result"
    }
   ],
   "source": [
    "from sklearn.datasets import load_boston\n",
    "boston_dataset = load_boston()\n",
    "boston = pd.DataFrame(boston_dataset.data, columns=boston_dataset.feature_names)\n",
    "boston.head()"
   ]
  },
  {
   "cell_type": "code",
   "execution_count": 28,
   "metadata": {},
   "outputs": [
    {
     "name": "stdout",
     "output_type": "stream",
     "text": [
      "(404, 2)\n",
      "(102, 2)\n",
      "(404,)\n",
      "(102,)\n"
     ]
    }
   ],
   "source": [
    "boston['MEDV'] = boston_dataset.target\n",
    "X = pd.DataFrame(np.c_[boston['LSTAT'], boston['RM']], columns = ['LSTAT','RM'])\n",
    "y = boston['MEDV']\n",
    "\n",
    "from sklearn.model_selection import train_test_split\n",
    "\n",
    "X_train, X_test, y_train, y_test = train_test_split(X, y, test_size = 0.2, random_state=5)\n",
    "print(X_train.shape)\n",
    "print(X_test.shape)\n",
    "print(y_train.shape)\n",
    "print(y_test.shape)"
   ]
  },
  {
   "cell_type": "markdown",
   "metadata": {},
   "source": [
    "Write Python code to:\n",
    "\n",
    "1. Fit a linear model to the data.\n",
    "2. Compute and print the RMSE and $R^2$ score for both train and test datasets.\n",
    "3. Fit a polynomial model (of degree 4) to the data.\n",
    "4. Compute and print the RMSE and $R^2$ score for both train and test datasets.\n",
    "5. Apply Ridge regression to the polynomial model.\n",
    "4. Compute and print the RMSE and $R^2$ score for both train and test datasets."
   ]
  },
  {
   "cell_type": "markdown",
   "metadata": {
    "colab_type": "text",
    "id": "tdOZPjis7Phf"
   },
   "source": [
    "## Solution"
   ]
  },
  {
   "cell_type": "markdown",
   "metadata": {},
   "source": [
    "Disclaimer: this section is heavily influenced by the link provided above, https://towardsdatascience.com/linear-regression-on-boston-housing-dataset-f409b7e4a155."
   ]
  },
  {
   "cell_type": "markdown",
   "metadata": {},
   "source": [
    "A quick look into the dataset."
   ]
  },
  {
   "cell_type": "code",
   "execution_count": 29,
   "metadata": {},
   "outputs": [
    {
     "data": {
      "text/html": [
       "<div>\n",
       "<style scoped>\n",
       "    .dataframe tbody tr th:only-of-type {\n",
       "        vertical-align: middle;\n",
       "    }\n",
       "\n",
       "    .dataframe tbody tr th {\n",
       "        vertical-align: top;\n",
       "    }\n",
       "\n",
       "    .dataframe thead th {\n",
       "        text-align: right;\n",
       "    }\n",
       "</style>\n",
       "<table border=\"1\" class=\"dataframe\">\n",
       "  <thead>\n",
       "    <tr style=\"text-align: right;\">\n",
       "      <th></th>\n",
       "      <th>LSTAT</th>\n",
       "      <th>RM</th>\n",
       "    </tr>\n",
       "  </thead>\n",
       "  <tbody>\n",
       "    <tr>\n",
       "      <th>0</th>\n",
       "      <td>4.98</td>\n",
       "      <td>6.575</td>\n",
       "    </tr>\n",
       "    <tr>\n",
       "      <th>1</th>\n",
       "      <td>9.14</td>\n",
       "      <td>6.421</td>\n",
       "    </tr>\n",
       "    <tr>\n",
       "      <th>2</th>\n",
       "      <td>4.03</td>\n",
       "      <td>7.185</td>\n",
       "    </tr>\n",
       "  </tbody>\n",
       "</table>\n",
       "</div>"
      ],
      "text/plain": [
       "   LSTAT     RM\n",
       "0   4.98  6.575\n",
       "1   9.14  6.421\n",
       "2   4.03  7.185"
      ]
     },
     "metadata": {},
     "output_type": "display_data"
    }
   ],
   "source": [
    "display(X.head(3))"
   ]
  },
  {
   "cell_type": "markdown",
   "metadata": {},
   "source": [
    "We have two dependent variables, making this case a _multivariate linear regression_ (good explanation and illustration [here](https://towardsdatascience.com/data-science-simplified-part-5-multivariate-regression-models-7684b0489015))"
   ]
  },
  {
   "cell_type": "markdown",
   "metadata": {
    "colab": {},
    "colab_type": "code",
    "id": "BQkN1WvQOKTi"
   },
   "source": [
    "### 1. Fit a linear model to the data"
   ]
  },
  {
   "cell_type": "code",
   "execution_count": 30,
   "metadata": {},
   "outputs": [
    {
     "data": {
      "text/plain": [
       "LinearRegression()"
      ]
     },
     "execution_count": 30,
     "metadata": {},
     "output_type": "execute_result"
    }
   ],
   "source": [
    "lin_model = LinearRegression()\n",
    "lin_model.fit(X_train, y_train)"
   ]
  },
  {
   "cell_type": "markdown",
   "metadata": {},
   "source": [
    "### 2. Compute and print the RMSE and $R^2$ score for both train and test datasets"
   ]
  },
  {
   "cell_type": "code",
   "execution_count": 31,
   "metadata": {},
   "outputs": [],
   "source": [
    "from sklearn.metrics import mean_squared_error\n",
    "from sklearn.metrics import r2_score\n",
    "\n",
    "def print_model_rmse_r2score(model):\n",
    "    y_train_predict = model.predict(X_train)\n",
    "    y_test_predict = model.predict(X_test)\n",
    "\n",
    "    print('              RMSE    R^2')\n",
    "    print('Training set: {:.3f}   {:.3f}'.format(\n",
    "        np.sqrt(mean_squared_error(y_train, y_train_predict)),\n",
    "        r2_score(y_train, y_train_predict)))\n",
    "    print('Testing set:  {:.3f}   {:.3f}'.format(\n",
    "       np.sqrt(mean_squared_error(y_test, y_test_predict)),\n",
    "       r2_score(y_test, y_test_predict)))"
   ]
  },
  {
   "cell_type": "code",
   "execution_count": 32,
   "metadata": {},
   "outputs": [
    {
     "name": "stdout",
     "output_type": "stream",
     "text": [
      "              RMSE    R^2\n",
      "Training set: 5.637   0.630\n",
      "Testing set:  5.137   0.663\n"
     ]
    }
   ],
   "source": [
    "print_model_rmse_r2score(lin_model)"
   ]
  },
  {
   "cell_type": "markdown",
   "metadata": {},
   "source": [
    "### 3. Fit a polynomial model (of degree 4) to the data"
   ]
  },
  {
   "cell_type": "code",
   "execution_count": 33,
   "metadata": {},
   "outputs": [],
   "source": [
    "boston_poly_model = make_pipeline(PolynomialFeatures(4),\n",
    "                                  LinearRegression())\n",
    "boston_poly_model.fit(X_train, y_train);"
   ]
  },
  {
   "cell_type": "markdown",
   "metadata": {},
   "source": [
    "### 4. Compute and print the RMSE and $R^2$ score for both train and test datasets"
   ]
  },
  {
   "cell_type": "code",
   "execution_count": 34,
   "metadata": {},
   "outputs": [
    {
     "name": "stdout",
     "output_type": "stream",
     "text": [
      "              RMSE    R^2\n",
      "Training set: 4.276   0.787\n",
      "Testing set:  3.889   0.807\n"
     ]
    }
   ],
   "source": [
    "print_model_rmse_r2score(boston_poly_model)"
   ]
  },
  {
   "cell_type": "markdown",
   "metadata": {},
   "source": [
    "### 5. Apply Ridge regression to the polynomial model"
   ]
  },
  {
   "cell_type": "code",
   "execution_count": 35,
   "metadata": {},
   "outputs": [],
   "source": [
    "boston_poly_model_ridge = make_pipeline(PolynomialFeatures(4),\n",
    "                                        Ridge())\n",
    "boston_poly_model_ridge.fit(X_train, y_train);"
   ]
  },
  {
   "cell_type": "markdown",
   "metadata": {},
   "source": [
    "### 6. Compute and print the RMSE and $R^2$ score for both train and test datasets."
   ]
  },
  {
   "cell_type": "code",
   "execution_count": 36,
   "metadata": {},
   "outputs": [
    {
     "name": "stdout",
     "output_type": "stream",
     "text": [
      "              RMSE    R^2\n",
      "Training set: 4.468   0.768\n",
      "Testing set:  3.919   0.804\n"
     ]
    }
   ],
   "source": [
    "print_model_rmse_r2score(boston_poly_model_ridge)"
   ]
  },
  {
   "cell_type": "markdown",
   "metadata": {
    "colab_type": "text",
    "id": "GLi0m9uuKkpD"
   },
   "source": [
    "## Conclusions (10 points)\n",
    "\n",
    "Write your conclusions and make sure to address the issues below:\n",
    "- What have you learned from this assignment?\n",
    "- Which parts were the most fun, time-consuming, enlightening, tedious?\n",
    "- What would you do if you had an additional week to work on this?"
   ]
  },
  {
   "cell_type": "markdown",
   "metadata": {
    "colab_type": "text",
    "id": "tmRWLHo5K99F"
   },
   "source": [
    "## Solution"
   ]
  },
  {
   "cell_type": "markdown",
   "metadata": {},
   "source": [
    "### What have you learned from this assignment?"
   ]
  },
  {
   "cell_type": "markdown",
   "metadata": {},
   "source": [
    "1. Perform linear regression with Numpy `polyfit()`\n",
    "1. Add features to improve fitting with `PolynomialFeatures()`\n",
    "1. Perform Linear regression with scikit-learn `LinearRegression()`\n",
    "1. Perform all steps together with a pipeline\n",
    "1. Regularize with Ridge and Lasso to prevent overfitting\n",
    "1. Use `RidgeCV()` and `LassoCV()` for hyperparameter search\n",
    "1. Evaluate the linear regression results with the $R^2$ score\n",
    "1. Choose an optimal polynomial degree by comparing $R^2$ scores\n",
    "1. To not trust only the summary statistics (Anscombe's quartet)"
   ]
  },
  {
   "cell_type": "markdown",
   "metadata": {},
   "source": [
    "### Which parts were the most fun, time-consuming, enlightening, tedious?"
   ]
  },
  {
   "cell_type": "markdown",
   "metadata": {},
   "source": [
    "**Fun**\n",
    "\n",
    "1. Most of it. The only exception was fighting `RidgeCV()` (see below).\n",
    "\n",
    "\n",
    "**Time consuming**\n",
    "\n",
    "1. Understand how `PolynomialFeatures()` works. \"Hiding\" it in a pipeline had the side effect of also hiding how it operates internally. For example, the need to use `fit_transform()` in the test data as well. To better undertsand how it works, I wrote [this notebook](https://github.com/fau-masters-collected-works-cgarbin/cap5768-introduction-to-data-science/blob/master/experiments/feature-transformation-without-pipelines.ipynb) to do linear regression step by step, without a pipeline, making the operations in each step visible.\n",
    "1. Undestand how `RidgeCV()` works and how important it is to set a value for `cv`.\n",
    "\n",
    "**Enlightening**\n",
    "\n",
    "1. How to choose a polynomial degree with $R^2$ score.\n",
    "1. Anscombe's quartet\n",
    "\n",
    "**Tedious**\n",
    "\n",
    "1. None"
   ]
  },
  {
   "cell_type": "markdown",
   "metadata": {},
   "source": [
    "### What would you do if you had an additional week to work on this?"
   ]
  },
  {
   "cell_type": "markdown",
   "metadata": {},
   "source": [
    "1. Learn [`GridSearchCV()`](https://scikit-learn.org/stable/modules/generated/sklearn.model_selection.GridSearchCV.html) and apply it to the Lasso hyperparameter optimization. `LassoCV()` accepts mulitple alphas, but other parameters, such as `tol` and `max_iter`, significantly affect the peformance of the classifier. `LassoCV()` does not accept arrays for them (to perform a grid search). Even with the simpler `RidgeCV()`, grid search could have been used to select a value for `cv`.\n",
    "1. How to graph a 2D linear regression decision plane."
   ]
  }
 ],
 "metadata": {
  "colab": {
   "collapsed_sections": [
    "Sf9JB_ntOKTg"
   ],
   "name": "CAP5768_Assignment1.ipynb",
   "provenance": [],
   "version": "0.3.2"
  },
  "kernelspec": {
   "display_name": "Python 3 (ipykernel)",
   "language": "python",
   "name": "python3"
  },
  "language_info": {
   "codemirror_mode": {
    "name": "ipython",
    "version": 3
   },
   "file_extension": ".py",
   "mimetype": "text/x-python",
   "name": "python",
   "nbconvert_exporter": "python",
   "pygments_lexer": "ipython3",
   "version": "3.10.2"
  }
 },
 "nbformat": 4,
 "nbformat_minor": 4
}
